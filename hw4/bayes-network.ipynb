{
 "cells": [
  {
   "cell_type": "code",
   "execution_count": 1,
   "metadata": {
    "collapsed": true
   },
   "outputs": [],
   "source": [
    "from pgmpy.models import BayesianModel\n",
    "from pgmpy.readwrite.BIF import BIFReader"
   ]
  },
  {
   "cell_type": "code",
   "execution_count": 2,
   "metadata": {},
   "outputs": [],
   "source": [
    "filename = 'child.bif'\n",
    "folder = '/Users/linarkou/Documents/ML-course/hw4/'"
   ]
  },
  {
   "cell_type": "code",
   "execution_count": 3,
   "metadata": {},
   "outputs": [],
   "source": [
    "reader=BIFReader(folder + filename)\n",
    "model = reader.get_model()"
   ]
  },
  {
   "cell_type": "code",
   "execution_count": 4,
   "metadata": {},
   "outputs": [
    {
     "data": {
      "text/plain": [
       "True"
      ]
     },
     "execution_count": 4,
     "metadata": {},
     "output_type": "execute_result"
    }
   ],
   "source": [
    "model.check_model()"
   ]
  },
  {
   "cell_type": "code",
   "execution_count": 5,
   "metadata": {},
   "outputs": [
    {
     "data": {
      "text/plain": [
       "[<TabularCPD representing P(Age:3 | Disease:6, Sick:2) at 0x1230d2f60>,\n <TabularCPD representing P(BirthAsphyxia:2) at 0x1230d2f28>,\n <TabularCPD representing P(CO2:3 | LungParench:3) at 0x1230d2ef0>,\n <TabularCPD representing P(CO2Report:2 | CO2:3) at 0x1230d2eb8>,\n <TabularCPD representing P(CardiacMixing:4 | Disease:6) at 0x1230d2e48>,\n <TabularCPD representing P(ChestXray:5 | LungParench:3, LungFlow:3) at 0x1230f22b0>,\n <TabularCPD representing P(Disease:6 | BirthAsphyxia:2) at 0x1230f2320>,\n <TabularCPD representing P(DuctFlow:3 | Disease:6) at 0x1230f9828>,\n <TabularCPD representing P(Grunting:2 | LungParench:3, Sick:2) at 0x1230f9fd0>,\n <TabularCPD representing P(GruntingReport:2 | Grunting:2) at 0x1230f9c88>,\n <TabularCPD representing P(HypDistrib:2 | DuctFlow:3, CardiacMixing:4) at 0x1230f9d30>,\n <TabularCPD representing P(HypoxiaInO2:3 | CardiacMixing:4, LungParench:3) at 0x1230f9da0>,\n <TabularCPD representing P(LVH:2 | Disease:6) at 0x1230f9eb8>,\n <TabularCPD representing P(LVHreport:2 | LVH:2) at 0x1230f9e48>,\n <TabularCPD representing P(LowerBodyO2:3 | HypDistrib:2, HypoxiaInO2:3) at 0x1230f9dd8>,\n <TabularCPD representing P(LungFlow:3 | Disease:6) at 0x1230f9cf8>,\n <TabularCPD representing P(LungParench:3 | Disease:6) at 0x1230f9898>,\n <TabularCPD representing P(RUQO2:3 | HypoxiaInO2:3) at 0x1230f9b38>,\n <TabularCPD representing P(Sick:2 | Disease:6) at 0x1230f9c18>,\n <TabularCPD representing P(XrayReport:5 | ChestXray:5) at 0x1230f9a20>]"
      ]
     },
     "execution_count": 5,
     "metadata": {},
     "output_type": "execute_result"
    }
   ],
   "source": [
    "model.get_cpds()"
   ]
  },
  {
   "cell_type": "code",
   "execution_count": 6,
   "metadata": {},
   "outputs": [
    {
     "name": "stdout",
     "output_type": "stream",
     "text": [
      "╒═════════╤═══════════╤═══════════╤═══════════╤═══════════╤═══════════╤═══════════╤═══════════╤═══════════╤═══════════╤═══════════╤═══════════╤═══════════╕\n│ Disease │ Disease_0 │ Disease_0 │ Disease_1 │ Disease_1 │ Disease_2 │ Disease_2 │ Disease_3 │ Disease_3 │ Disease_4 │ Disease_4 │ Disease_5 │ Disease_5 │\n├─────────┼───────────┼───────────┼───────────┼───────────┼───────────┼───────────┼───────────┼───────────┼───────────┼───────────┼───────────┼───────────┤\n│ Sick    │ Sick_0    │ Sick_1    │ Sick_0    │ Sick_1    │ Sick_0    │ Sick_1    │ Sick_0    │ Sick_1    │ Sick_0    │ Sick_1    │ Sick_0    │ Sick_1    │\n├─────────┼───────────┼───────────┼───────────┼───────────┼───────────┼───────────┼───────────┼───────────┼───────────┼───────────┼───────────┼───────────┤\n│ Age_0   │ 0.95      │ 0.8       │ 0.7       │ 0.8       │ 0.9       │ 0.8       │ 0.85      │ 0.7       │ 0.25      │ 0.8       │ 0.7       │ 0.8       │\n├─────────┼───────────┼───────────┼───────────┼───────────┼───────────┼───────────┼───────────┼───────────┼───────────┼───────────┼───────────┼───────────┤\n│ Age_1   │ 0.03      │ 0.15      │ 0.15      │ 0.15      │ 0.08      │ 0.15      │ 0.1       │ 0.2       │ 0.25      │ 0.15      │ 0.2       │ 0.15      │\n├─────────┼───────────┼───────────┼───────────┼───────────┼───────────┼───────────┼───────────┼───────────┼───────────┼───────────┼───────────┼───────────┤\n│ Age_2   │ 0.02      │ 0.05      │ 0.15      │ 0.05      │ 0.02      │ 0.05      │ 0.05      │ 0.1       │ 0.5       │ 0.05      │ 0.1       │ 0.05      │\n╘═════════╧═══════════╧═══════════╧═══════════╧═══════════╧═══════════╧═══════════╧═══════════╧═══════════╧═══════════╧═══════════╧═══════════╧═══════════╛\n╒═════════════════╤═════╕\n│ BirthAsphyxia_0 │ 0.1 │\n├─────────────────┼─────┤\n│ BirthAsphyxia_1 │ 0.9 │\n╘═════════════════╧═════╛\n╒═════════════╤═══════════════╤═══════════════╤═══════════════╕\n│ LungParench │ LungParench_0 │ LungParench_1 │ LungParench_2 │\n├─────────────┼───────────────┼───────────────┼───────────────┤\n│ CO2_0       │ 0.8           │ 0.65          │ 0.45          │\n├─────────────┼───────────────┼───────────────┼───────────────┤\n│ CO2_1       │ 0.1           │ 0.05          │ 0.05          │\n├─────────────┼───────────────┼───────────────┼───────────────┤\n│ CO2_2       │ 0.1           │ 0.3           │ 0.5           │\n╘═════════════╧═══════════════╧═══════════════╧═══════════════╛\n╒═════════════╤═══════╤═══════╤═══════╕\n│ CO2         │ CO2_0 │ CO2_1 │ CO2_2 │\n├─────────────┼───────┼───────┼───────┤\n│ CO2Report_0 │ 0.9   │ 0.9   │ 0.1   │\n├─────────────┼───────┼───────┼───────┤\n│ CO2Report_1 │ 0.1   │ 0.1   │ 0.9   │\n╘═════════════╧═══════╧═══════╧═══════╛\n╒═════════════════╤═══════════╤═══════════╤═══════════╤═══════════╤═══════════╤═══════════╕\n│ Disease         │ Disease_0 │ Disease_1 │ Disease_2 │ Disease_3 │ Disease_4 │ Disease_5 │\n├─────────────────┼───────────┼───────────┼───────────┼───────────┼───────────┼───────────┤\n│ CardiacMixing_0 │ 0.4       │ 0.02      │ 0.02      │ 0.01      │ 0.01      │ 0.4       │\n├─────────────────┼───────────┼───────────┼───────────┼───────────┼───────────┼───────────┤\n│ CardiacMixing_1 │ 0.43      │ 0.09      │ 0.16      │ 0.02      │ 0.03      │ 0.53      │\n├─────────────────┼───────────┼───────────┼───────────┼───────────┼───────────┼───────────┤\n│ CardiacMixing_2 │ 0.15      │ 0.09      │ 0.8       │ 0.95      │ 0.95      │ 0.05      │\n├─────────────────┼───────────┼───────────┼───────────┼───────────┼───────────┼───────────┤\n│ CardiacMixing_3 │ 0.02      │ 0.8       │ 0.02      │ 0.02      │ 0.01      │ 0.02      │\n╘═════════════════╧═══════════╧═══════════╧═══════════╧═══════════╧═══════════╧═══════════╛\n╒═════════════╤═══════════════╤═══════════════╤═══════════════╤═══════════════╤═══════════════╤═══════════════╤═══════════════╤═══════════════╤═══════════════╕\n│ LungParench │ LungParench_0 │ LungParench_0 │ LungParench_0 │ LungParench_1 │ LungParench_1 │ LungParench_1 │ LungParench_2 │ LungParench_2 │ LungParench_2 │\n├─────────────┼───────────────┼───────────────┼───────────────┼───────────────┼───────────────┼───────────────┼───────────────┼───────────────┼───────────────┤\n│ LungFlow    │ LungFlow_0    │ LungFlow_1    │ LungFlow_2    │ LungFlow_0    │ LungFlow_1    │ LungFlow_2    │ LungFlow_0    │ LungFlow_1    │ LungFlow_2    │\n├─────────────┼───────────────┼───────────────┼───────────────┼───────────────┼───────────────┼───────────────┼───────────────┼───────────────┼───────────────┤\n│ ChestXray_0 │ 0.9           │ 0.05          │ 0.05          │ 0.14          │ 0.05          │ 0.05          │ 0.15          │ 0.05          │ 0.24          │\n├─────────────┼───────────────┼───────────────┼───────────────┼───────────────┼───────────────┼───────────────┼───────────────┼───────────────┼───────────────┤\n│ ChestXray_1 │ 0.03          │ 0.02          │ 0.05          │ 0.8           │ 0.22          │ 0.15          │ 0.01          │ 0.02          │ 0.33          │\n├─────────────┼───────────────┼───────────────┼───────────────┼───────────────┼───────────────┼───────────────┼───────────────┼───────────────┼───────────────┤\n│ ChestXray_2 │ 0.03          │ 0.15          │ 0.05          │ 0.02          │ 0.08          │ 0.05          │ 0.79          │ 0.4           │ 0.03          │\n├─────────────┼───────────────┼───────────────┼───────────────┼───────────────┼───────────────┼───────────────┼───────────────┼───────────────┼───────────────┤\n│ ChestXray_3 │ 0.01          │ 0.7           │ 0.05          │ 0.02          │ 0.5           │ 0.05          │ 0.04          │ 0.4           │ 0.34          │\n├─────────────┼───────────────┼───────────────┼───────────────┼───────────────┼───────────────┼───────────────┼───────────────┼───────────────┼───────────────┤\n│ ChestXray_4 │ 0.03          │ 0.08          │ 0.8           │ 0.02          │ 0.15          │ 0.7           │ 0.01          │ 0.13          │ 0.06          │\n╘═════════════╧═══════════════╧═══════════════╧═══════════════╧═══════════════╧═══════════════╧═══════════════╧═══════════════╧═══════════════╧═══════════════╛\n╒═══════════════╤═════════════════╤═════════════════╕\n│ BirthAsphyxia │ BirthAsphyxia_0 │ BirthAsphyxia_1 │\n├───────────────┼─────────────────┼─────────────────┤\n│ Disease_0     │ 0.2             │ 0.03061224      │\n├───────────────┼─────────────────┼─────────────────┤\n│ Disease_1     │ 0.3             │ 0.33673469      │\n├───────────────┼─────────────────┼─────────────────┤\n│ Disease_2     │ 0.25            │ 0.29591837      │\n├───────────────┼─────────────────┼─────────────────┤\n│ Disease_3     │ 0.15            │ 0.23469388      │\n├───────────────┼─────────────────┼─────────────────┤\n│ Disease_4     │ 0.05            │ 0.05102041      │\n├───────────────┼─────────────────┼─────────────────┤\n│ Disease_5     │ 0.05            │ 0.05102041      │\n╘═══════════════╧═════════════════╧═════════════════╛\n╒════════════╤═══════════╤═══════════╤═══════════╤═══════════╤═══════════╤═══════════╕\n│ Disease    │ Disease_0 │ Disease_1 │ Disease_2 │ Disease_3 │ Disease_4 │ Disease_5 │\n├────────────┼───────────┼───────────┼───────────┼───────────┼───────────┼───────────┤\n│ DuctFlow_0 │ 0.15      │ 0.1       │ 0.8       │ 1.0       │ 0.33      │ 0.2       │\n├────────────┼───────────┼───────────┼───────────┼───────────┼───────────┼───────────┤\n│ DuctFlow_1 │ 0.05      │ 0.8       │ 0.2       │ 0.0       │ 0.33      │ 0.4       │\n├────────────┼───────────┼───────────┼───────────┼───────────┼───────────┼───────────┤\n│ DuctFlow_2 │ 0.8       │ 0.1       │ 0.0       │ 0.0       │ 0.34      │ 0.4       │\n╘════════════╧═══════════╧═══════════╧═══════════╧═══════════╧═══════════╧═══════════╛\n╒═════════════╤═══════════════╤═══════════════╤═══════════════╤═══════════════╤═══════════════╤═══════════════╕\n│ LungParench │ LungParench_0 │ LungParench_0 │ LungParench_1 │ LungParench_1 │ LungParench_2 │ LungParench_2 │\n├─────────────┼───────────────┼───────────────┼───────────────┼───────────────┼───────────────┼───────────────┤\n│ Sick        │ Sick_0        │ Sick_1        │ Sick_0        │ Sick_1        │ Sick_0        │ Sick_1        │\n├─────────────┼───────────────┼───────────────┼───────────────┼───────────────┼───────────────┼───────────────┤\n│ Grunting_0  │ 0.2           │ 0.4           │ 0.8           │ 0.05          │ 0.2           │ 0.6           │\n├─────────────┼───────────────┼───────────────┼───────────────┼───────────────┼───────────────┼───────────────┤\n│ Grunting_1  │ 0.8           │ 0.6           │ 0.2           │ 0.95          │ 0.8           │ 0.4           │\n╘═════════════╧═══════════════╧═══════════════╧═══════════════╧═══════════════╧═══════════════╧═══════════════╛\n╒══════════════════╤════════════╤════════════╕\n│ Grunting         │ Grunting_0 │ Grunting_1 │\n├──────────────────┼────────────┼────────────┤\n│ GruntingReport_0 │ 0.8        │ 0.1        │\n├──────────────────┼────────────┼────────────┤\n│ GruntingReport_1 │ 0.2        │ 0.9        │\n╘══════════════════╧════════════╧════════════╛\n╒═══════════════╤═════════════════╤═════════════════╤═════════════════╤═════════════════╤═════════════════╤═════════════════╤═════════════════╤═════════════════╤═════════════════╤═════════════════╤═════════════════╤═════════════════╕\n│ DuctFlow      │ DuctFlow_0      │ DuctFlow_0      │ DuctFlow_0      │ DuctFlow_0      │ DuctFlow_1      │ DuctFlow_1      │ DuctFlow_1      │ DuctFlow_1      │ DuctFlow_2      │ DuctFlow_2      │ DuctFlow_2      │ DuctFlow_2      │\n├───────────────┼─────────────────┼─────────────────┼─────────────────┼─────────────────┼─────────────────┼─────────────────┼─────────────────┼─────────────────┼─────────────────┼─────────────────┼─────────────────┼─────────────────┤\n│ CardiacMixing │ CardiacMixing_0 │ CardiacMixing_1 │ CardiacMixing_2 │ CardiacMixing_3 │ CardiacMixing_0 │ CardiacMixing_1 │ CardiacMixing_2 │ CardiacMixing_3 │ CardiacMixing_0 │ CardiacMixing_1 │ CardiacMixing_2 │ CardiacMixing_3 │\n├───────────────┼─────────────────┼─────────────────┼─────────────────┼─────────────────┼─────────────────┼─────────────────┼─────────────────┼─────────────────┼─────────────────┼─────────────────┼─────────────────┼─────────────────┤\n│ HypDistrib_0  │ 0.95            │ 0.95            │ 0.05            │ 0.95            │ 0.95            │ 0.5             │ 0.95            │ 0.95            │ 0.95            │ 0.95            │ 0.95            │ 0.5             │\n├───────────────┼─────────────────┼─────────────────┼─────────────────┼─────────────────┼─────────────────┼─────────────────┼─────────────────┼─────────────────┼─────────────────┼─────────────────┼─────────────────┼─────────────────┤\n│ HypDistrib_1  │ 0.05            │ 0.05            │ 0.95            │ 0.05            │ 0.05            │ 0.5             │ 0.05            │ 0.05            │ 0.05            │ 0.05            │ 0.05            │ 0.5             │\n╘═══════════════╧═════════════════╧═════════════════╧═════════════════╧═════════════════╧═════════════════╧═════════════════╧═════════════════╧═════════════════╧═════════════════╧═════════════════╧═════════════════╧═════════════════╛\n╒═══════════════╤═════════════════╤═════════════════╤═════════════════╤═════════════════╤═════════════════╤═════════════════╤═════════════════╤═════════════════╤═════════════════╤═════════════════╤═════════════════╤═════════════════╕\n│ CardiacMixing │ CardiacMixing_0 │ CardiacMixing_0 │ CardiacMixing_0 │ CardiacMixing_1 │ CardiacMixing_1 │ CardiacMixing_1 │ CardiacMixing_2 │ CardiacMixing_2 │ CardiacMixing_2 │ CardiacMixing_3 │ CardiacMixing_3 │ CardiacMixing_3 │\n├───────────────┼─────────────────┼─────────────────┼─────────────────┼─────────────────┼─────────────────┼─────────────────┼─────────────────┼─────────────────┼─────────────────┼─────────────────┼─────────────────┼─────────────────┤\n│ LungParench   │ LungParench_0   │ LungParench_1   │ LungParench_2   │ LungParench_0   │ LungParench_1   │ LungParench_2   │ LungParench_0   │ LungParench_1   │ LungParench_2   │ LungParench_0   │ LungParench_1   │ LungParench_2   │\n├───────────────┼─────────────────┼─────────────────┼─────────────────┼─────────────────┼─────────────────┼─────────────────┼─────────────────┼─────────────────┼─────────────────┼─────────────────┼─────────────────┼─────────────────┤\n│ HypoxiaInO2_0 │ 0.93            │ 0.1             │ 0.1             │ 0.02            │ 0.15            │ 0.1             │ 0.05            │ 0.1             │ 0.7             │ 0.1             │ 0.1             │ 0.02            │\n├───────────────┼─────────────────┼─────────────────┼─────────────────┼─────────────────┼─────────────────┼─────────────────┼─────────────────┼─────────────────┼─────────────────┼─────────────────┼─────────────────┼─────────────────┤\n│ HypoxiaInO2_1 │ 0.05            │ 0.8             │ 0.7             │ 0.18            │ 0.8             │ 0.75            │ 0.65            │ 0.3             │ 0.2             │ 0.65            │ 0.5             │ 0.18            │\n├───────────────┼─────────────────┼─────────────────┼─────────────────┼─────────────────┼─────────────────┼─────────────────┼─────────────────┼─────────────────┼─────────────────┼─────────────────┼─────────────────┼─────────────────┤\n│ HypoxiaInO2_2 │ 0.02            │ 0.1             │ 0.2             │ 0.8             │ 0.05            │ 0.15            │ 0.3             │ 0.6             │ 0.1             │ 0.25            │ 0.4             │ 0.8             │\n╘═══════════════╧═════════════════╧═════════════════╧═════════════════╧═════════════════╧═════════════════╧═════════════════╧═════════════════╧═════════════════╧═════════════════╧═════════════════╧═════════════════╧═════════════════╛\n╒═════════╤═══════════╤═══════════╤═══════════╤═══════════╤═══════════╤═══════════╕\n│ Disease │ Disease_0 │ Disease_1 │ Disease_2 │ Disease_3 │ Disease_4 │ Disease_5 │\n├─────────┼───────────┼───────────┼───────────┼───────────┼───────────┼───────────┤\n│ LVH_0   │ 0.1       │ 0.1       │ 0.1       │ 0.9       │ 0.05      │ 0.1       │\n├─────────┼───────────┼───────────┼───────────┼───────────┼───────────┼───────────┤\n│ LVH_1   │ 0.9       │ 0.9       │ 0.9       │ 0.1       │ 0.95      │ 0.9       │\n╘═════════╧═══════════╧═══════════╧═══════════╧═══════════╧═══════════╧═══════════╛\n╒═════════════╤═══════╤═══════╕\n│ LVH         │ LVH_0 │ LVH_1 │\n├─────────────┼───────┼───────┤\n│ LVHreport_0 │ 0.9   │ 0.05  │\n├─────────────┼───────┼───────┤\n│ LVHreport_1 │ 0.1   │ 0.95  │\n╘═════════════╧═══════╧═══════╛\n╒═══════════════╤═══════════════╤═══════════════╤═══════════════╤═══════════════╤═══════════════╤═══════════════╕\n│ HypDistrib    │ HypDistrib_0  │ HypDistrib_0  │ HypDistrib_0  │ HypDistrib_1  │ HypDistrib_1  │ HypDistrib_1  │\n├───────────────┼───────────────┼───────────────┼───────────────┼───────────────┼───────────────┼───────────────┤\n│ HypoxiaInO2   │ HypoxiaInO2_0 │ HypoxiaInO2_1 │ HypoxiaInO2_2 │ HypoxiaInO2_0 │ HypoxiaInO2_1 │ HypoxiaInO2_2 │\n├───────────────┼───────────────┼───────────────┼───────────────┼───────────────┼───────────────┼───────────────┤\n│ LowerBodyO2_0 │ 0.1           │ 0.4           │ 0.3           │ 0.5           │ 0.5           │ 0.6           │\n├───────────────┼───────────────┼───────────────┼───────────────┼───────────────┼───────────────┼───────────────┤\n│ LowerBodyO2_1 │ 0.3           │ 0.5           │ 0.6           │ 0.45          │ 0.4           │ 0.35          │\n├───────────────┼───────────────┼───────────────┼───────────────┼───────────────┼───────────────┼───────────────┤\n│ LowerBodyO2_2 │ 0.6           │ 0.1           │ 0.1           │ 0.05          │ 0.1           │ 0.05          │\n╘═══════════════╧═══════════════╧═══════════════╧═══════════════╧═══════════════╧═══════════════╧═══════════════╛\n╒════════════╤═══════════╤═══════════╤═══════════╤═══════════╤═══════════╤═══════════╕\n│ Disease    │ Disease_0 │ Disease_1 │ Disease_2 │ Disease_3 │ Disease_4 │ Disease_5 │\n├────────────┼───────────┼───────────┼───────────┼───────────┼───────────┼───────────┤\n│ LungFlow_0 │ 0.3       │ 0.2       │ 0.15      │ 0.1       │ 0.3       │ 0.7       │\n├────────────┼───────────┼───────────┼───────────┼───────────┼───────────┼───────────┤\n│ LungFlow_1 │ 0.65      │ 0.05      │ 0.8       │ 0.85      │ 0.1       │ 0.1       │\n├────────────┼───────────┼───────────┼───────────┼───────────┼───────────┼───────────┤\n│ LungFlow_2 │ 0.05      │ 0.75      │ 0.05      │ 0.05      │ 0.6       │ 0.2       │\n╘════════════╧═══════════╧═══════════╧═══════════╧═══════════╧═══════════╧═══════════╛\n╒═══════════════╤═══════════╤═══════════╤═══════════╤═══════════╤═══════════╤═══════════╕\n│ Disease       │ Disease_0 │ Disease_1 │ Disease_2 │ Disease_3 │ Disease_4 │ Disease_5 │\n├───────────────┼───────────┼───────────┼───────────┼───────────┼───────────┼───────────┤\n│ LungParench_0 │ 0.6       │ 0.8       │ 0.8       │ 0.8       │ 0.1       │ 0.03      │\n├───────────────┼───────────┼───────────┼───────────┼───────────┼───────────┼───────────┤\n│ LungParench_1 │ 0.1       │ 0.05      │ 0.05      │ 0.05      │ 0.6       │ 0.25      │\n├───────────────┼───────────┼───────────┼───────────┼───────────┼───────────┼───────────┤\n│ LungParench_2 │ 0.3       │ 0.15      │ 0.15      │ 0.15      │ 0.3       │ 0.72      │\n╘═══════════════╧═══════════╧═══════════╧═══════════╧═══════════╧═══════════╧═══════════╛\n╒═════════════╤═══════════════╤═══════════════╤═══════════════╕\n│ HypoxiaInO2 │ HypoxiaInO2_0 │ HypoxiaInO2_1 │ HypoxiaInO2_2 │\n├─────────────┼───────────────┼───────────────┼───────────────┤\n│ RUQO2_0     │ 0.1           │ 0.3           │ 0.5           │\n├─────────────┼───────────────┼───────────────┼───────────────┤\n│ RUQO2_1     │ 0.3           │ 0.6           │ 0.4           │\n├─────────────┼───────────────┼───────────────┼───────────────┤\n│ RUQO2_2     │ 0.6           │ 0.1           │ 0.1           │\n╘═════════════╧═══════════════╧═══════════════╧═══════════════╛\n╒═════════╤═══════════╤═══════════╤═══════════╤═══════════╤═══════════╤═══════════╕\n│ Disease │ Disease_0 │ Disease_1 │ Disease_2 │ Disease_3 │ Disease_4 │ Disease_5 │\n├─────────┼───────────┼───────────┼───────────┼───────────┼───────────┼───────────┤\n│ Sick_0  │ 0.4       │ 0.3       │ 0.2       │ 0.3       │ 0.7       │ 0.7       │\n├─────────┼───────────┼───────────┼───────────┼───────────┼───────────┼───────────┤\n│ Sick_1  │ 0.6       │ 0.7       │ 0.8       │ 0.7       │ 0.3       │ 0.3       │\n╘═════════╧═══════════╧═══════════╧═══════════╧═══════════╧═══════════╧═══════════╛\n╒══════════════╤═════════════╤═════════════╤═════════════╤═════════════╤═════════════╕\n│ ChestXray    │ ChestXray_0 │ ChestXray_1 │ ChestXray_2 │ ChestXray_3 │ ChestXray_4 │\n├──────────────┼─────────────┼─────────────┼─────────────┼─────────────┼─────────────┤\n│ XrayReport_0 │ 0.8         │ 0.1         │ 0.1         │ 0.08        │ 0.08        │\n├──────────────┼─────────────┼─────────────┼─────────────┼─────────────┼─────────────┤\n│ XrayReport_1 │ 0.06        │ 0.8         │ 0.02        │ 0.02        │ 0.02        │\n├──────────────┼─────────────┼─────────────┼─────────────┼─────────────┼─────────────┤\n│ XrayReport_2 │ 0.06        │ 0.02        │ 0.8         │ 0.1         │ 0.1         │\n├──────────────┼─────────────┼─────────────┼─────────────┼─────────────┼─────────────┤\n│ XrayReport_3 │ 0.02        │ 0.02        │ 0.02        │ 0.6         │ 0.1         │\n├──────────────┼─────────────┼─────────────┼─────────────┼─────────────┼─────────────┤\n│ XrayReport_4 │ 0.06        │ 0.06        │ 0.06        │ 0.2         │ 0.7         │\n╘══════════════╧═════════════╧═════════════╧═════════════╧═════════════╧═════════════╛\n"
     ]
    }
   ],
   "source": [
    "for cpd in model.get_cpds():\n",
    "    print(cpd)"
   ]
  },
  {
   "cell_type": "code",
   "execution_count": 7,
   "metadata": {},
   "outputs": [],
   "source": []
  },
  {
   "cell_type": "markdown",
   "metadata": {},
   "source": [
    "## Variable elimination"
   ]
  },
  {
   "cell_type": "code",
   "execution_count": 7,
   "metadata": {},
   "outputs": [],
   "source": [
    "from pgmpy.inference.ExactInference import VariableElimination\n",
    "\n",
    "inference = VariableElimination(model)"
   ]
  },
  {
   "cell_type": "code",
   "execution_count": 8,
   "metadata": {},
   "outputs": [
    {
     "name": "stderr",
     "output_type": "stream",
     "text": [
      "/Users/linarkou/.pyenv/versions/3.6.7/lib/python3.6/site-packages/pgmpy/factors/discrete/DiscreteFactor.py:586: FutureWarning: Using a non-tuple sequence for multidimensional indexing is deprecated; use `arr[tuple(seq)]` instead of `arr[seq]`. In the future this will be interpreted as an array index, `arr[np.array(seq)]`, which will result either in an error or a different result.\n  phi.values = phi.values[slice_]\n/Users/linarkou/.pyenv/versions/3.6.7/lib/python3.6/site-packages/pgmpy/factors/discrete/DiscreteFactor.py:598: FutureWarning: Using a non-tuple sequence for multidimensional indexing is deprecated; use `arr[tuple(seq)]` instead of `arr[seq]`. In the future this will be interpreted as an array index, `arr[np.array(seq)]`, which will result either in an error or a different result.\n  phi1.values = phi1.values[slice_]\n"
     ]
    },
    {
     "name": "stdout",
     "output_type": "stream",
     "text": [
      "╒═══════╤════════════╕\n│ Age   │   phi(Age) │\n╞═══════╪════════════╡\n│ Age_0 │     0.7770 │\n├───────┼────────────┤\n│ Age_1 │     0.1451 │\n├───────┼────────────┤\n│ Age_2 │     0.0778 │\n╘═══════╧════════════╛\n"
     ]
    },
    {
     "name": "stdout",
     "output_type": "stream",
     "text": [
      "╒═══════╤════════════╕\n│ Age   │   phi(Age) │\n╞═══════╪════════════╡\n│ Age_0 │     0.7615 │\n├───────┼────────────┤\n│ Age_1 │     0.1544 │\n├───────┼────────────┤\n│ Age_2 │     0.0840 │\n╘═══════╧════════════╛\n"
     ]
    }
   ],
   "source": [
    "print(inference.query(['Age', 'CO2'], evidence={'BirthAsphyxia': 0})['Age'])\n",
    "print(inference.query(['Age', 'CO2'], evidence={'BirthAsphyxia': 1})['Age'])"
   ]
  },
  {
   "cell_type": "code",
   "execution_count": 9,
   "metadata": {},
   "outputs": [
    {
     "name": "stdout",
     "output_type": "stream",
     "text": [
      "<class 'dict'>\n"
     ]
    }
   ],
   "source": [
    "print(type(reader.get_values()))"
   ]
  },
  {
   "cell_type": "code",
   "execution_count": 10,
   "metadata": {},
   "outputs": [
    {
     "data": {
      "text/plain": [
       "{'Age': array([[0.95, 0.8 , 0.7 , 0.8 , 0.9 , 0.8 , 0.85, 0.7 , 0.25, 0.8 , 0.7 ,\n         0.8 ],\n        [0.03, 0.15, 0.15, 0.15, 0.08, 0.15, 0.1 , 0.2 , 0.25, 0.15, 0.2 ,\n         0.15],\n        [0.02, 0.05, 0.15, 0.05, 0.02, 0.05, 0.05, 0.1 , 0.5 , 0.05, 0.1 ,\n         0.05]]), 'BirthAsphyxia': array([[0.1],\n        [0.9]]), 'CO2': array([[0.8 , 0.65, 0.45],\n        [0.1 , 0.05, 0.05],\n        [0.1 , 0.3 , 0.5 ]]), 'CO2Report': array([[0.9, 0.9, 0.1],\n        [0.1, 0.1, 0.9]]), 'CardiacMixing': array([[0.4 , 0.02, 0.02, 0.01, 0.01, 0.4 ],\n        [0.43, 0.09, 0.16, 0.02, 0.03, 0.53],\n        [0.15, 0.09, 0.8 , 0.95, 0.95, 0.05],\n        [0.02, 0.8 , 0.02, 0.02, 0.01, 0.02]]), 'ChestXray': array([[0.9 , 0.05, 0.05, 0.14, 0.05, 0.05, 0.15, 0.05, 0.24],\n        [0.03, 0.02, 0.05, 0.8 , 0.22, 0.15, 0.01, 0.02, 0.33],\n        [0.03, 0.15, 0.05, 0.02, 0.08, 0.05, 0.79, 0.4 , 0.03],\n        [0.01, 0.7 , 0.05, 0.02, 0.5 , 0.05, 0.04, 0.4 , 0.34],\n        [0.03, 0.08, 0.8 , 0.02, 0.15, 0.7 , 0.01, 0.13, 0.06]]), 'Disease': array([[0.2       , 0.03061224],\n        [0.3       , 0.33673469],\n        [0.25      , 0.29591837],\n        [0.15      , 0.23469388],\n        [0.05      , 0.05102041],\n        [0.05      , 0.05102041]]), 'DuctFlow': array([[0.15, 0.1 , 0.8 , 1.  , 0.33, 0.2 ],\n        [0.05, 0.8 , 0.2 , 0.  , 0.33, 0.4 ],\n        [0.8 , 0.1 , 0.  , 0.  , 0.34, 0.4 ]]), 'Grunting': array([[0.2 , 0.4 , 0.8 , 0.05, 0.2 , 0.6 ],\n        [0.8 , 0.6 , 0.2 , 0.95, 0.8 , 0.4 ]]), 'GruntingReport': array([[0.8, 0.1],\n        [0.2, 0.9]]), 'HypDistrib': array([[0.95, 0.95, 0.05, 0.95, 0.95, 0.5 , 0.95, 0.95, 0.95, 0.95, 0.95,\n         0.5 ],\n        [0.05, 0.05, 0.95, 0.05, 0.05, 0.5 , 0.05, 0.05, 0.05, 0.05, 0.05,\n         0.5 ]]), 'HypoxiaInO2': array([[0.93, 0.1 , 0.1 , 0.02, 0.15, 0.1 , 0.05, 0.1 , 0.7 , 0.1 , 0.1 ,\n         0.02],\n        [0.05, 0.8 , 0.7 , 0.18, 0.8 , 0.75, 0.65, 0.3 , 0.2 , 0.65, 0.5 ,\n         0.18],\n        [0.02, 0.1 , 0.2 , 0.8 , 0.05, 0.15, 0.3 , 0.6 , 0.1 , 0.25, 0.4 ,\n         0.8 ]]), 'LVH': array([[0.1 , 0.1 , 0.1 , 0.9 , 0.05, 0.1 ],\n        [0.9 , 0.9 , 0.9 , 0.1 , 0.95, 0.9 ]]), 'LVHreport': array([[0.9 , 0.05],\n        [0.1 , 0.95]]), 'LowerBodyO2': array([[0.1 , 0.4 , 0.3 , 0.5 , 0.5 , 0.6 ],\n        [0.3 , 0.5 , 0.6 , 0.45, 0.4 , 0.35],\n        [0.6 , 0.1 , 0.1 , 0.05, 0.1 , 0.05]]), 'LungFlow': array([[0.3 , 0.2 , 0.15, 0.1 , 0.3 , 0.7 ],\n        [0.65, 0.05, 0.8 , 0.85, 0.1 , 0.1 ],\n        [0.05, 0.75, 0.05, 0.05, 0.6 , 0.2 ]]), 'LungParench': array([[0.6 , 0.8 , 0.8 , 0.8 , 0.1 , 0.03],\n        [0.1 , 0.05, 0.05, 0.05, 0.6 , 0.25],\n        [0.3 , 0.15, 0.15, 0.15, 0.3 , 0.72]]), 'RUQO2': array([[0.1, 0.3, 0.5],\n        [0.3, 0.6, 0.4],\n        [0.6, 0.1, 0.1]]), 'Sick': array([[0.4, 0.3, 0.2, 0.3, 0.7, 0.7],\n        [0.6, 0.7, 0.8, 0.7, 0.3, 0.3]]), 'XrayReport': array([[0.8 , 0.1 , 0.1 , 0.08, 0.08],\n        [0.06, 0.8 , 0.02, 0.02, 0.02],\n        [0.06, 0.02, 0.8 , 0.1 , 0.1 ],\n        [0.02, 0.02, 0.02, 0.6 , 0.1 ],\n        [0.06, 0.06, 0.06, 0.2 , 0.7 ]])}"
      ]
     },
     "execution_count": 10,
     "metadata": {},
     "output_type": "execute_result"
    }
   ],
   "source": [
    "reader.get_values()"
   ]
  },
  {
   "cell_type": "code",
   "execution_count": 11,
   "metadata": {
    "collapsed": false
   },
   "outputs": [
    {
     "data": {
      "text/plain": [
       "[['DuctFlow', 'HypDistrib'],\n ['CardiacMixing', 'HypDistrib'],\n ['CardiacMixing', 'HypoxiaInO2'],\n ['LungParench', 'HypoxiaInO2'],\n ['LungParench', 'CO2'],\n ['LungParench', 'ChestXray'],\n ['LungFlow', 'ChestXray'],\n ['LungParench', 'Grunting'],\n ['Sick', 'Grunting'],\n ['LVH', 'LVHreport'],\n ['HypDistrib', 'LowerBodyO2'],\n ['HypoxiaInO2', 'LowerBodyO2'],\n ['HypoxiaInO2', 'RUQO2'],\n ['CO2', 'CO2Report'],\n ['ChestXray', 'XrayReport'],\n ['BirthAsphyxia', 'Disease'],\n ['Grunting', 'GruntingReport'],\n ['Disease', 'Age'],\n ['Sick', 'Age'],\n ['Disease', 'LVH'],\n ['Disease', 'DuctFlow'],\n ['Disease', 'CardiacMixing'],\n ['Disease', 'LungParench'],\n ['Disease', 'LungFlow'],\n ['Disease', 'Sick']]"
      ]
     },
     "execution_count": 11,
     "metadata": {},
     "output_type": "execute_result"
    }
   ],
   "source": [
    "reader.get_edges()"
   ]
  },
  {
   "cell_type": "code",
   "execution_count": 12,
   "metadata": {},
   "outputs": [
    {
     "data": {
      "text/plain": [
       "{'Age': ['Disease', 'Sick'],\n 'BirthAsphyxia': [],\n 'CO2': ['LungParench'],\n 'CO2Report': ['CO2'],\n 'CardiacMixing': ['Disease'],\n 'ChestXray': ['LungParench', 'LungFlow'],\n 'Disease': ['BirthAsphyxia'],\n 'DuctFlow': ['Disease'],\n 'Grunting': ['LungParench', 'Sick'],\n 'GruntingReport': ['Grunting'],\n 'HypDistrib': ['DuctFlow', 'CardiacMixing'],\n 'HypoxiaInO2': ['CardiacMixing', 'LungParench'],\n 'LVH': ['Disease'],\n 'LVHreport': ['LVH'],\n 'LowerBodyO2': ['HypDistrib', 'HypoxiaInO2'],\n 'LungFlow': ['Disease'],\n 'LungParench': ['Disease'],\n 'RUQO2': ['HypoxiaInO2'],\n 'Sick': ['Disease'],\n 'XrayReport': ['ChestXray']}"
      ]
     },
     "execution_count": 12,
     "metadata": {},
     "output_type": "execute_result"
    }
   ],
   "source": [
    "reader.get_parents()"
   ]
  },
  {
   "cell_type": "code",
   "execution_count": 13,
   "metadata": {},
   "outputs": [
    {
     "data": {
      "text/plain": [
       "{'Age': ['0-3_days', '4-10_days', '11-30_days'],\n 'BirthAsphyxia': ['yes', 'no'],\n 'CO2': ['Normal', 'Low', 'High'],\n 'CO2Report': ['<7.5', '>=7.5'],\n 'CardiacMixing': ['None', 'Mild', 'Complete', 'Transp.'],\n 'ChestXray': ['Normal', 'Oligaemic', 'Plethoric', 'Grd_Glass', 'Asy/Patch'],\n 'Disease': ['PFC', 'TGA', 'Fallot', 'PAIVS', 'TAPVD', 'Lung'],\n 'DuctFlow': ['Lt_to_Rt', 'None', 'Rt_to_Lt'],\n 'Grunting': ['yes', 'no'],\n 'GruntingReport': ['yes', 'no'],\n 'HypDistrib': ['Equal', 'Unequal'],\n 'HypoxiaInO2': ['Mild', 'Moderate', 'Severe'],\n 'LVH': ['yes', 'no'],\n 'LVHreport': ['yes', 'no'],\n 'LowerBodyO2': ['<5', '5-12', '12+'],\n 'LungFlow': ['Normal', 'Low', 'High'],\n 'LungParench': ['Normal', 'Congested', 'Abnormal'],\n 'RUQO2': ['<5', '5-12', '12+'],\n 'Sick': ['yes', 'no'],\n 'XrayReport': ['Normal', 'Oligaemic', 'Plethoric', 'Grd_Glass', 'Asy/Patchy']}"
      ]
     },
     "execution_count": 13,
     "metadata": {},
     "output_type": "execute_result"
    }
   ],
   "source": [
    "reader.get_states()"
   ]
  },
  {
   "cell_type": "code",
   "execution_count": 14,
   "metadata": {},
   "outputs": [
    {
     "data": {
      "text/plain": [
       "['BirthAsphyxia',\n 'HypDistrib',\n 'HypoxiaInO2',\n 'CO2',\n 'ChestXray',\n 'Grunting',\n 'LVHreport',\n 'LowerBodyO2',\n 'RUQO2',\n 'CO2Report',\n 'XrayReport',\n 'Disease',\n 'GruntingReport',\n 'Age',\n 'LVH',\n 'DuctFlow',\n 'CardiacMixing',\n 'LungParench',\n 'LungFlow',\n 'Sick']"
      ]
     },
     "execution_count": 14,
     "metadata": {},
     "output_type": "execute_result"
    }
   ],
   "source": [
    "reader.get_variables()"
   ]
  },
  {
   "cell_type": "code",
   "execution_count": null,
   "metadata": {},
   "outputs": [],
   "source": []
  },
  {
   "cell_type": "code",
   "execution_count": null,
   "metadata": {},
   "outputs": [],
   "source": []
  }
 ],
 "metadata": {
  "kernelspec": {
   "display_name": "Python 3",
   "language": "python",
   "name": "python3"
  },
  "language_info": {
   "codemirror_mode": {
    "name": "ipython",
    "version": 3
   },
   "file_extension": ".py",
   "mimetype": "text/x-python",
   "name": "python",
   "nbconvert_exporter": "python",
   "pygments_lexer": "ipython3",
   "version": "3.7.0"
  }
 },
 "nbformat": 4,
 "nbformat_minor": 2
}
