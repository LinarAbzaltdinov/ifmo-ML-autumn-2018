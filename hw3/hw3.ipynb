{
 "cells": [
  {
   "cell_type": "markdown",
   "metadata": {},
   "source": [
    "# SMBO"
   ]
  },
  {
   "cell_type": "code",
   "execution_count": 17,
   "metadata": {},
   "outputs": [],
   "source": [
    "import numpy as np\n",
    "%matplotlib inline\n",
    "import matplotlib.pyplot as plt"
   ]
  },
  {
   "cell_type": "code",
   "execution_count": 18,
   "metadata": {},
   "outputs": [],
   "source": [
    "import warnings\n",
    "warnings.filterwarnings('ignore')"
   ]
  },
  {
   "cell_type": "code",
   "execution_count": 19,
   "metadata": {},
   "outputs": [],
   "source": [
    "MIN = -5.12\n",
    "MAX = 5.12\n",
    "D = 1\n",
    "Ds = [3, 5, 10]\n",
    "BATCH_SIZE = 100\n",
    "ITERATIONS = 500\n",
    "FOREST_SIZE = 10\n",
    "NEXT_SAMPLE_SIZE = 5"
   ]
  },
  {
   "cell_type": "code",
   "execution_count": 20,
   "metadata": {},
   "outputs": [],
   "source": [
    "def rastrigin(X, A = 10):\n",
    "    n = len(X)\n",
    "    return A * n + (X * X - A * np.cos(2 * np.pi * X)).sum(axis=1)"
   ]
  },
  {
   "cell_type": "code",
   "execution_count": 21,
   "metadata": {},
   "outputs": [],
   "source": [
    "def random_args(N):\n",
    "    return np.random.rand(N) * (MAX - MIN) + MIN\n",
    "\n",
    "def rand_batch(size):\n",
    "    return np.array([random_args(D) for i in range(size)])"
   ]
  },
  {
   "cell_type": "code",
   "execution_count": 22,
   "metadata": {},
   "outputs": [],
   "source": [
    "from functools import reduce\n",
    "\n",
    "def min_rastrigin(batch):\n",
    "    return rastrigin(batch).min()"
   ]
  },
  {
   "cell_type": "code",
   "execution_count": 23,
   "metadata": {},
   "outputs": [],
   "source": [
    "def random_rastrigin_opt():\n",
    "    result = np.empty([ITERATIONS], float)\n",
    "    for i in range(ITERATIONS):\n",
    "        batch = rand_batch(NEXT_SAMPLE_SIZE)\n",
    "        min_val = min_rastrigin(batch)\n",
    "        if i == 0:\n",
    "            result[i] = min_val\n",
    "        else:\n",
    "            result[i] = min(result[i-1], min_val)\n",
    "    return result"
   ]
  },
  {
   "cell_type": "code",
   "execution_count": 24,
   "metadata": {},
   "outputs": [],
   "source": [
    "from sklearn.tree import DecisionTreeRegressor\n",
    "\n",
    "def random_forest_rastrigin_opt():\n",
    "    current = rand_batch(BATCH_SIZE)\n",
    "    forest = np.array([DecisionTreeRegressor() for i in range(FOREST_SIZE)])\n",
    "    result = np.empty([ITERATIONS], float)\n",
    "    \n",
    "    print(\"RF:\")\n",
    "    for i in range(ITERATIONS):\n",
    "        if i % 100 == 0:\n",
    "            print(\"Iteration: \", i)\n",
    "            \n",
    "        y_current = rastrigin(current)\n",
    "        current_size = current.shape[0]\n",
    "        \n",
    "        for j in range(FOREST_SIZE):\n",
    "            indices = np.random.choice(current_size, current_size)\n",
    "            forest[j].fit(current[indices], y_current[indices])\n",
    "            \n",
    "        next_batch = rand_batch(BATCH_SIZE)\n",
    "        y_predict = np.empty([FOREST_SIZE, BATCH_SIZE], dtype=float)\n",
    "        \n",
    "        for j in range(FOREST_SIZE):\n",
    "            y_predict[j] = forest[j].predict(next_batch)\n",
    "            \n",
    "        means = y_predict.mean(axis=0)\n",
    "        variances = y_predict.var(axis=0)\n",
    "        poi = (variances-variances.mean())/means\n",
    "        next_indices = np.argsort(poi)[-NEXT_SAMPLE_SIZE:]\n",
    "        current = np.concatenate((current, next_batch[next_indices]))\n",
    "        min_val = min_rastrigin(next_batch[next_indices])\n",
    "                \n",
    "        if (i == 0):\n",
    "            result[i] = min_val\n",
    "        else:\n",
    "            result[i] = min(result[i-1], min_val)\n",
    "        \n",
    "    return result"
   ]
  },
  {
   "cell_type": "code",
   "execution_count": 25,
   "metadata": {},
   "outputs": [],
   "source": [
    "from sklearn.gaussian_process import GaussianProcessRegressor\n",
    "\n",
    "def gaussian_process_rastrigin_opt():\n",
    "    gpr = GaussianProcessRegressor()\n",
    "    current = rand_batch(BATCH_SIZE)\n",
    "    result = np.empty([ITERATIONS], float)\n",
    "    \n",
    "    print(\"GP:\")\n",
    "    for i in range(ITERATIONS):\n",
    "        if i % 100 == 0:\n",
    "            print(\"Iteration: \", i)\n",
    "            \n",
    "        y_current = rastrigin(current)\n",
    "        gpr.fit(current, y_current)\n",
    "                \n",
    "        next_batch = rand_batch(BATCH_SIZE)\n",
    "        \n",
    "        means, stds = gpr.predict(next_batch, return_std=True)\n",
    "        variances = stds ** 2\n",
    "        poi = (variances-variances.mean())/means\n",
    "        next_indices = np.argsort(poi)[:NEXT_SAMPLE_SIZE]\n",
    "        current = np.concatenate((current, next_batch[next_indices]))\n",
    "        min_val = min_rastrigin(next_batch[next_indices])\n",
    "                \n",
    "        if (i == 0):\n",
    "            result[i] = min_val\n",
    "        else:\n",
    "            result[i] = min(result[i-1], min_val)\n",
    "        \n",
    "    return result"
   ]
  },
  {
   "cell_type": "code",
   "execution_count": 26,
   "metadata": {},
   "outputs": [
    {
     "name": "stdout",
     "output_type": "stream",
     "text": [
      "RF:\n",
      "Iteration:  0\n",
      "Iteration:  100\n",
      "Iteration:  200\n",
      "Iteration:  300\n",
      "Iteration:  400\n",
      "GP:\n",
      "Iteration:  0\n",
      "Iteration:  100\n",
      "Iteration:  200\n",
      "Iteration:  300\n",
      "Iteration:  400\n",
      "RF:\n",
      "Iteration:  0\n",
      "Iteration:  100\n",
      "Iteration:  200\n",
      "Iteration:  300\n",
      "Iteration:  400\n",
      "GP:\n",
      "Iteration:  0\n",
      "Iteration:  100\n",
      "Iteration:  200\n",
      "Iteration:  300\n",
      "Iteration:  400\n",
      "RF:\n",
      "Iteration:  0\n",
      "Iteration:  100\n",
      "Iteration:  200\n",
      "Iteration:  300\n",
      "Iteration:  400\n",
      "GP:\n",
      "Iteration:  0\n",
      "Iteration:  100\n",
      "Iteration:  200\n",
      "Iteration:  300\n",
      "Iteration:  400\n"
     ]
    }
   ],
   "source": [
    "results = np.empty([3, len(Ds), ITERATIONS])\n",
    "\n",
    "for counter, value in enumerate(Ds):\n",
    "    D = value\n",
    "    \n",
    "    results[0, counter] = random_rastrigin_opt()\n",
    "    results[1, counter] = random_forest_rastrigin_opt()\n",
    "    results[2, counter] = gaussian_process_rastrigin_opt()"
   ]
  },
  {
   "cell_type": "code",
   "execution_count": 27,
   "metadata": {},
   "outputs": [
    {
     "data": {
      "image/png": "[encoded data removed]",
      "text/plain": [
       "<Figure size 432x288 with 1 Axes>"
      ]
     },
     "metadata": {
      "needs_background": "light"
     },
     "output_type": "display_data"
    },
    {
     "data": {
      "image/png": "[encoded data removed]",
      "text/plain": [
       "<Figure size 432x288 with 1 Axes>"
      ]
     },
     "metadata": {
      "needs_background": "light"
     },
     "output_type": "display_data"
    },
    {
     "data": {
      "image/png": "[encoded data removed]",
      "text/plain": [
       "<Figure size 432x288 with 1 Axes>"
      ]
     },
     "metadata": {
      "needs_background": "light"
     },
     "output_type": "display_data"
    }
   ],
   "source": [
    "iters = range(ITERATIONS)\n",
    "\n",
    "for counter, value in enumerate(Ds):\n",
    "    plt.figure(counter+1)\n",
    "    plt.title('D = ' + str(value))\n",
    "    plt.plot(iters, results[0, counter], color='r')\n",
    "    plt.plot(iters, results[1, counter], color='g')\n",
    "    plt.plot(iters, results[2, counter], color='b')\n",
    "    \n",
    "plt.show()"
   ]
  },
  {
   "cell_type": "code",
   "execution_count": null,
   "metadata": {},
   "outputs": [],
   "source": []
  }
 ],
 "metadata": {
  "kernelspec": {
   "display_name": "Python 3",
   "language": "python",
   "name": "python3"
  },
  "language_info": {
   "codemirror_mode": {
    "name": "ipython",
    "version": 3
   },
   "file_extension": ".py",
   "mimetype": "text/x-python",
   "name": "python",
   "nbconvert_exporter": "python",
   "pygments_lexer": "ipython3",
   "version": "3.7.0"
  }
 },
 "nbformat": 4,
 "nbformat_minor": 2
}
