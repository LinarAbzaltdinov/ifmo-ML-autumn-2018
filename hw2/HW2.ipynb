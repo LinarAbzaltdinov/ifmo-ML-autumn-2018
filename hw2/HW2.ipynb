{
 "cells": [
  {
   "cell_type": "markdown",
   "metadata": {},
   "source": [
    "# Feature Selection"
   ]
  },
  {
   "cell_type": "markdown",
   "metadata": {},
   "source": [
    "### Load data"
   ]
  },
  {
   "cell_type": "code",
   "execution_count": 5,
   "metadata": {},
   "outputs": [],
   "source": [
    "import numpy as np\n",
    "import pandas as pd"
   ]
  },
  {
   "cell_type": "code",
   "execution_count": 6,
   "metadata": {},
   "outputs": [],
   "source": [
    "import warnings\n",
    "warnings.filterwarnings('ignore')"
   ]
  },
  {
   "cell_type": "code",
   "execution_count": 7,
   "metadata": {},
   "outputs": [],
   "source": [
    "file = open('/Users/linarkou/Documents/ML-course/hw2/data/arcene_train.data')\n",
    "X_train = np.fromfile(file, dtype=np.int32, sep=' ')\n",
    "file.close()\n",
    "\n",
    "file = open('/Users/linarkou/Documents/ML-course/hw2/data/arcene_train.labels')\n",
    "y_train = np.fromfile(file, dtype=np.int32, sep=' ')\n",
    "file.close()\n",
    " \n",
    "file = open('/Users/linarkou/Documents/ML-course/hw2/data/arcene_valid.data')\n",
    "X_valid = np.fromfile(file, dtype=np.int32, sep=' ')\n",
    "file.close()\n",
    "\n",
    "file = open('/Users/linarkou/Documents/ML-course/hw2/data/arcene_valid.labels')\n",
    "y_valid = np.fromfile(file, dtype=np.int32, sep=' ')\n",
    "file.close()"
   ]
  },
  {
   "cell_type": "code",
   "execution_count": 8,
   "metadata": {},
   "outputs": [],
   "source": [
    "y_train = y_train.reshape(-1)\n",
    "X_train = X_train.reshape(y_train.shape[0], -1)\n",
    "y_valid = y_valid.reshape(-1)\n",
    "X_valid = X_valid.reshape(y_valid.shape[0], -1)"
   ]
  },
  {
   "cell_type": "code",
   "execution_count": 9,
   "metadata": {},
   "outputs": [
    {
     "name": "stdout",
     "output_type": "stream",
     "text": [
      "[[  0  71   0 ...   0   0 524]\n",
      " [  0  41  82 ...   0 284 423]\n",
      " [  0   0   1 ...   0  34 508]\n",
      " ...\n",
      " [  2  15  48 ...   0   0 453]\n",
      " [  8   0  38 ...   0 189 403]\n",
      " [  0   0   0 ...   0  10 365]]\n"
     ]
    },
    {
     "data": {
      "text/plain": [
       "(100, 10000)"
      ]
     },
     "execution_count": 9,
     "metadata": {},
     "output_type": "execute_result"
    }
   ],
   "source": [
    "print(X_train)\n",
    "X_train.shape"
   ]
  },
  {
   "cell_type": "code",
   "execution_count": 10,
   "metadata": {},
   "outputs": [
    {
     "data": {
      "text/plain": [
       "(100,)"
      ]
     },
     "execution_count": 10,
     "metadata": {},
     "output_type": "execute_result"
    }
   ],
   "source": [
    "y_train.shape"
   ]
  },
  {
   "cell_type": "code",
   "execution_count": 11,
   "metadata": {},
   "outputs": [],
   "source": [
    "from sklearn.neighbors import KNeighborsClassifier\n",
    "from sklearn.metrics import accuracy_score\n",
    "\n",
    "def predict(X_train, y_train, X_valid, y_valid):\n",
    "    clf = KNeighborsClassifier()\n",
    "    clf.fit(X_train, y_train)\n",
    "    y_pred = clf.predict(X_valid)\n",
    "    score = accuracy_score(y_valid, y_pred)\n",
    "    return score"
   ]
  },
  {
   "cell_type": "markdown",
   "metadata": {},
   "source": [
    "## 1. Spearman Correlation"
   ]
  },
  {
   "cell_type": "code",
   "execution_count": 17,
   "metadata": {},
   "outputs": [],
   "source": [
    "from scipy.stats import spearmanr\n",
    "\n",
    "def correlationFilter(X, y, p_value=0.01):\n",
    "    indices = []\n",
    "    featuresAmount = X.shape[1]\n",
    "    for i in range(featuresAmount):\n",
    "        _, cur_p_value = spearmanr(X[:, i], y)\n",
    "        if cur_p_value > p_value:\n",
    "            indices.append(i)\n",
    "    return indices"
   ]
  },
  {
   "cell_type": "markdown",
   "metadata": {},
   "source": [
    "## 2. Intraclass Distance Filter"
   ]
  },
  {
   "cell_type": "markdown",
   "metadata": {},
   "source": [
    "#### Group by classes"
   ]
  },
  {
   "cell_type": "code",
   "execution_count": 18,
   "metadata": {},
   "outputs": [],
   "source": [
    "classes = {}\n",
    "for i, class_value in enumerate(y_train):\n",
    "    if class_value in classes:\n",
    "        classes[class_value].append(i)\n",
    "    else:\n",
    "        classes[class_value] = [i]"
   ]
  },
  {
   "cell_type": "code",
   "execution_count": 19,
   "metadata": {},
   "outputs": [],
   "source": [
    "from sklearn import preprocessing\n",
    "\n",
    "def intraclassDistanceFilter(X, y, distance=1):\n",
    "    scaler = preprocessing.StandardScaler().fit(X)\n",
    "    X = scaler.transform(X)\n",
    "    distances = []\n",
    "    features_amount = X.shape[1]\n",
    "    for f_i in range(features_amount):\n",
    "        observations = X[:, f_i]        \n",
    "        dist = 0\n",
    "        for cl in classes:\n",
    "            dist_cl = 0\n",
    "            for i in classes[cl]:\n",
    "                for j in classes[cl]:\n",
    "                    dist_cl += abs(observations[i] - observations[j])\n",
    "            dist += dist_cl / (len(classes[cl])**2 - len(classes[cl]))\n",
    "        distances.append(dist / len(classes))\n",
    "    return [i for i, d in enumerate(distances) if d <= distance]\n"
   ]
  },
  {
   "cell_type": "markdown",
   "metadata": {},
   "source": [
    "## 3. Interclass Distance Filter"
   ]
  },
  {
   "cell_type": "code",
   "execution_count": 20,
   "metadata": {},
   "outputs": [],
   "source": [
    "from sklearn import preprocessing\n",
    "\n",
    "def interclassDistanceFilter(X, y, distance=1):\n",
    "    scaler = preprocessing.StandardScaler().fit(X)\n",
    "    X = scaler.transform(X)\n",
    "    distances = []\n",
    "    features_amount = X.shape[1]\n",
    "    for f_i in range(features_amount):\n",
    "        observations = X[:, f_i]\n",
    "        dist = 0\n",
    "        for i in classes[-1]:\n",
    "            for j in classes[1]:\n",
    "                dist += abs(observations[i] - observations[j])\n",
    "        distances.append(dist / (len(classes[1]) * len (classes[-1])))\n",
    "    return [i for i, d in enumerate(distances) if d >= distance]"
   ]
  },
  {
   "cell_type": "markdown",
   "metadata": {},
   "source": [
    "## 4. Pearson Correlation"
   ]
  },
  {
   "cell_type": "code",
   "execution_count": 21,
   "metadata": {},
   "outputs": [],
   "source": [
    "from scipy.stats import pearsonr\n",
    "\n",
    "def pearsonCorrelationFilter(X, y, p_value=0.01):\n",
    "    indices = []\n",
    "    featuresAmount = X.shape[1]\n",
    "    for i in range(featuresAmount):\n",
    "        _, cur_p_value = pearsonr(X[:, i], y)\n",
    "        if cur_p_value > p_value:\n",
    "            indices.append(i)\n",
    "    return indices"
   ]
  },
  {
   "cell_type": "markdown",
   "metadata": {},
   "source": [
    "# Comparison"
   ]
  },
  {
   "cell_type": "code",
   "execution_count": 22,
   "metadata": {},
   "outputs": [],
   "source": [
    "row_names = pd.Index([\"features amount\", \"score\"], name=\"\")"
   ]
  },
  {
   "cell_type": "markdown",
   "metadata": {},
   "source": [
    "### Spearman correlation"
   ]
  },
  {
   "cell_type": "code",
   "execution_count": 23,
   "metadata": {},
   "outputs": [
    {
     "data": {
      "text/html": [
       "<div>\n",
       "<style scoped>\n",
       "    .dataframe tbody tr th:only-of-type {\n",
       "        vertical-align: middle;\n",
       "    }\n",
       "\n",
       "    .dataframe tbody tr th {\n",
       "        vertical-align: top;\n",
       "    }\n",
       "\n",
       "    .dataframe thead th {\n",
       "        text-align: right;\n",
       "    }\n",
       "</style>\n",
       "<table border=\"1\" class=\"dataframe\">\n",
       "  <thead>\n",
       "    <tr style=\"text-align: right;\">\n",
       "      <th>p value</th>\n",
       "      <th>0.1</th>\n",
       "      <th>0.05</th>\n",
       "      <th>0.01</th>\n",
       "      <th>0.005</th>\n",
       "      <th>0.001</th>\n",
       "    </tr>\n",
       "    <tr>\n",
       "      <th></th>\n",
       "      <th></th>\n",
       "      <th></th>\n",
       "      <th></th>\n",
       "      <th></th>\n",
       "      <th></th>\n",
       "    </tr>\n",
       "  </thead>\n",
       "  <tbody>\n",
       "    <tr>\n",
       "      <th>features amount</th>\n",
       "      <td>6592.00</td>\n",
       "      <td>7408.00</td>\n",
       "      <td>8620.00</td>\n",
       "      <td>8989.0</td>\n",
       "      <td>9489.00</td>\n",
       "    </tr>\n",
       "    <tr>\n",
       "      <th>score</th>\n",
       "      <td>0.78</td>\n",
       "      <td>0.79</td>\n",
       "      <td>0.83</td>\n",
       "      <td>0.8</td>\n",
       "      <td>0.81</td>\n",
       "    </tr>\n",
       "  </tbody>\n",
       "</table>\n",
       "</div>"
      ],
      "text/plain": [
       "p value            0.100    0.050    0.010   0.005    0.001\n",
       "                                                           \n",
       "features amount  6592.00  7408.00  8620.00  8989.0  9489.00\n",
       "score               0.78     0.79     0.83     0.8     0.81"
      ]
     },
     "metadata": {},
     "output_type": "display_data"
    }
   ],
   "source": [
    "p_values = [0.1, 0.05, 0.01, 0.005, 0.001]\n",
    "\n",
    "best_score = 0\n",
    "spearman_indices = []\n",
    "best_p_value = 0\n",
    "spearman_df = pd.DataFrame(index=row_names, columns=pd.Index(data=p_values, name=\"p value\"))\n",
    "for p_value in p_values:\n",
    "    indices = correlationFilter(X_train, y_train, p_value)\n",
    "    score = predict(X_train[:, indices], y_train, X_valid[:, indices], y_valid)\n",
    "    spearman_df[p_value] = [len(indices), score]\n",
    "    if score > best_score:\n",
    "        spearman_indices = indices\n",
    "        best_score = score\n",
    "        best_p_value = p_value\n",
    "    \n",
    "display(spearman_df)"
   ]
  },
  {
   "cell_type": "markdown",
   "metadata": {},
   "source": [
    "### Intraclass Distance"
   ]
  },
  {
   "cell_type": "code",
   "execution_count": 24,
   "metadata": {},
   "outputs": [],
   "source": [
    "intracl_params = np.arange(0.9, 1.1, 0.01)\n",
    "\n",
    "best_score = 0\n",
    "intracl_dist_indices = []\n",
    "best_intracl_param = 0\n",
    "intracl_dist_df = pd.DataFrame(index=row_names, \n",
    "                               columns=pd.Index(data=intracl_params, name=\"High border of mean dist inside class\"))\n",
    "for param in intracl_params:\n",
    "    indices = intraclassDistanceFilter(X_train, y_train, param)\n",
    "    score = predict(X_train[:, indices], y_train, X_valid[:, indices], y_valid)\n",
    "    intracl_dist_df[param] = [len(indices), score]\n",
    "    if score > best_score:\n",
    "        intracl_dist_indices = indices\n",
    "        best_score = score\n",
    "        best_intracl_param = param"
   ]
  },
  {
   "cell_type": "code",
   "execution_count": 25,
   "metadata": {},
   "outputs": [
    {
     "data": {
      "text/plain": [
       "1.0500000000000003"
      ]
     },
     "execution_count": 25,
     "metadata": {},
     "output_type": "execute_result"
    }
   ],
   "source": [
    "best_intracl_param"
   ]
  },
  {
   "cell_type": "code",
   "execution_count": 26,
   "metadata": {},
   "outputs": [
    {
     "data": {
      "text/plain": [
       "High border of mean dist inside class\n",
       "0.90    0.74\n",
       "0.91    0.75\n",
       "0.92    0.76\n",
       "0.93    0.75\n",
       "0.94    0.77\n",
       "0.95    0.74\n",
       "0.96    0.73\n",
       "0.97    0.76\n",
       "0.98    0.77\n",
       "0.99    0.77\n",
       "1.00    0.79\n",
       "1.01    0.79\n",
       "1.02    0.77\n",
       "1.03    0.75\n",
       "1.04    0.76\n",
       "1.05    0.80\n",
       "1.06    0.80\n",
       "1.07    0.75\n",
       "1.08    0.75\n",
       "1.09    0.77\n",
       "1.10    0.78\n",
       "Name: score, dtype: float64"
      ]
     },
     "execution_count": 26,
     "metadata": {},
     "output_type": "execute_result"
    }
   ],
   "source": [
    "intracl_dist_df.loc['score']"
   ]
  },
  {
   "cell_type": "markdown",
   "metadata": {},
   "source": [
    "### Interclass Distance"
   ]
  },
  {
   "cell_type": "code",
   "execution_count": 27,
   "metadata": {},
   "outputs": [],
   "source": [
    "intercl_params = np.arange(0.9, 1.2, 0.01)\n",
    "\n",
    "best_score = 0\n",
    "intercl_dist_indices = []\n",
    "best_intercl_param = 0\n",
    "intercl_dist_df = pd.DataFrame(index=row_names, \n",
    "                               columns=pd.Index(data=intercl_params, name=\"Low border of mean dist between classes\"))\n",
    "for param in intercl_params:\n",
    "    indices = interclassDistanceFilter(X_train, y_train, param)\n",
    "    score = predict(X_train[:, indices], y_train, X_valid[:, indices], y_valid)\n",
    "    intercl_dist_df[param] = [len(indices), score]\n",
    "    if score >= best_score:\n",
    "        intercl_dist_indices = indices\n",
    "        best_score = score\n",
    "        best_intercl_param = param"
   ]
  },
  {
   "cell_type": "code",
   "execution_count": 28,
   "metadata": {},
   "outputs": [
    {
     "data": {
      "text/plain": [
       "0.9600000000000001"
      ]
     },
     "execution_count": 28,
     "metadata": {},
     "output_type": "execute_result"
    }
   ],
   "source": [
    "best_intercl_param"
   ]
  },
  {
   "cell_type": "code",
   "execution_count": 29,
   "metadata": {},
   "outputs": [
    {
     "data": {
      "text/plain": [
       "Low border of mean dist between classes\n",
       "0.90    0.81\n",
       "0.91    0.83\n",
       "0.92    0.83\n",
       "0.93    0.83\n",
       "0.94    0.83\n",
       "0.95    0.83\n",
       "0.96    0.83\n",
       "0.97    0.82\n",
       "0.98    0.82\n",
       "0.99    0.82\n",
       "1.00    0.80\n",
       "1.01    0.79\n",
       "1.02    0.81\n",
       "1.03    0.82\n",
       "1.04    0.82\n",
       "1.05    0.82\n",
       "1.06    0.82\n",
       "1.07    0.82\n",
       "1.08    0.81\n",
       "1.09    0.81\n",
       "1.10    0.82\n",
       "1.11    0.81\n",
       "1.12    0.81\n",
       "1.13    0.80\n",
       "1.14    0.81\n",
       "1.15    0.82\n",
       "1.16    0.80\n",
       "1.17    0.78\n",
       "1.18    0.75\n",
       "1.19    0.77\n",
       "Name: score, dtype: float64"
      ]
     },
     "execution_count": 29,
     "metadata": {},
     "output_type": "execute_result"
    }
   ],
   "source": [
    "intercl_dist_df.loc['score']"
   ]
  },
  {
   "cell_type": "code",
   "execution_count": 31,
   "metadata": {},
   "outputs": [],
   "source": [
    "intercl_dist_indices_less_amount = interclassDistanceFilter(X_train, y_train, distance=1.07)"
   ]
  },
  {
   "cell_type": "markdown",
   "metadata": {},
   "source": [
    "### Pearson Correlation"
   ]
  },
  {
   "cell_type": "code",
   "execution_count": 15,
   "metadata": {},
   "outputs": [
    {
     "data": {
      "text/html": [
       "<div>\n",
       "<style scoped>\n",
       "    .dataframe tbody tr th:only-of-type {\n",
       "        vertical-align: middle;\n",
       "    }\n",
       "\n",
       "    .dataframe tbody tr th {\n",
       "        vertical-align: top;\n",
       "    }\n",
       "\n",
       "    .dataframe thead th {\n",
       "        text-align: right;\n",
       "    }\n",
       "</style>\n",
       "<table border=\"1\" class=\"dataframe\">\n",
       "  <thead>\n",
       "    <tr style=\"text-align: right;\">\n",
       "      <th>p value</th>\n",
       "      <th>0.1</th>\n",
       "      <th>0.05</th>\n",
       "      <th>0.01</th>\n",
       "      <th>0.005</th>\n",
       "      <th>0.001</th>\n",
       "    </tr>\n",
       "    <tr>\n",
       "      <th></th>\n",
       "      <th></th>\n",
       "      <th></th>\n",
       "      <th></th>\n",
       "      <th></th>\n",
       "      <th></th>\n",
       "    </tr>\n",
       "  </thead>\n",
       "  <tbody>\n",
       "    <tr>\n",
       "      <th>features amount</th>\n",
       "      <td>6527.00</td>\n",
       "      <td>7342.00</td>\n",
       "      <td>8696.00</td>\n",
       "      <td>9122.00</td>\n",
       "      <td>9646.0</td>\n",
       "    </tr>\n",
       "    <tr>\n",
       "      <th>score</th>\n",
       "      <td>0.78</td>\n",
       "      <td>0.78</td>\n",
       "      <td>0.81</td>\n",
       "      <td>0.82</td>\n",
       "      <td>0.8</td>\n",
       "    </tr>\n",
       "  </tbody>\n",
       "</table>\n",
       "</div>"
      ],
      "text/plain": [
       "p value            0.100    0.050    0.010    0.005   0.001\n",
       "                                                           \n",
       "features amount  6527.00  7342.00  8696.00  9122.00  9646.0\n",
       "score               0.78     0.78     0.81     0.82     0.8"
      ]
     },
     "metadata": {},
     "output_type": "display_data"
    }
   ],
   "source": [
    "p_values = [0.1, 0.05, 0.01, 0.005, 0.001]\n",
    "\n",
    "best_score = 0\n",
    "pearson_indices = []\n",
    "best_p_value = 0\n",
    "pearson_df = pd.DataFrame(index=row_names, columns=pd.Index(data=p_values, name=\"p value\"))\n",
    "for p_value in p_values:\n",
    "    indices = pearsonCorrelationFilter(X_train, y_train, p_value)\n",
    "    score = predict(X_train[:, indices], y_train, X_valid[:, indices], y_valid)\n",
    "    pearson_df[p_value] = [len(indices), score]\n",
    "    if score > best_score:\n",
    "        pearson_indices = indices\n",
    "        best_score = score\n",
    "        best_p_value = p_value\n",
    "    \n",
    "display(pearson_df)"
   ]
  },
  {
   "cell_type": "code",
   "execution_count": 34,
   "metadata": {},
   "outputs": [
    {
     "data": {
      "text/html": [
       "<div>\n",
       "<style scoped>\n",
       "    .dataframe tbody tr th:only-of-type {\n",
       "        vertical-align: middle;\n",
       "    }\n",
       "\n",
       "    .dataframe tbody tr th {\n",
       "        vertical-align: top;\n",
       "    }\n",
       "\n",
       "    .dataframe thead th {\n",
       "        text-align: right;\n",
       "    }\n",
       "</style>\n",
       "<table border=\"1\" class=\"dataframe\">\n",
       "  <thead>\n",
       "    <tr style=\"text-align: right;\">\n",
       "      <th></th>\n",
       "      <th>original</th>\n",
       "      <th>Pearson Correlation</th>\n",
       "      <th>Spearman Correlation</th>\n",
       "      <th>Intraclass Distance</th>\n",
       "      <th>Interclass Distance</th>\n",
       "      <th>Interclass Distance (less f.amount)</th>\n",
       "      <th>Spearman + Intraclass</th>\n",
       "      <th>Spearman + Interclass</th>\n",
       "      <th>Spearman + Interclass (less f.amount)</th>\n",
       "      <th>Intraclass + Interclass</th>\n",
       "      <th>Intraclass + Interclass (less f.amount)</th>\n",
       "      <th>Spearman + Intraclass + Interclass</th>\n",
       "      <th>Spearman + Intraclass + Interclass (less f.amount)</th>\n",
       "    </tr>\n",
       "    <tr>\n",
       "      <th></th>\n",
       "      <th></th>\n",
       "      <th></th>\n",
       "      <th></th>\n",
       "      <th></th>\n",
       "      <th></th>\n",
       "      <th></th>\n",
       "      <th></th>\n",
       "      <th></th>\n",
       "      <th></th>\n",
       "      <th></th>\n",
       "      <th></th>\n",
       "      <th></th>\n",
       "      <th></th>\n",
       "    </tr>\n",
       "  </thead>\n",
       "  <tbody>\n",
       "    <tr>\n",
       "      <th>features amount</th>\n",
       "      <td>10000.00</td>\n",
       "      <td>9122.00</td>\n",
       "      <td>8620.00</td>\n",
       "      <td>6922.0</td>\n",
       "      <td>5382.00</td>\n",
       "      <td>3438.00</td>\n",
       "      <td>5899.00</td>\n",
       "      <td>4397.00</td>\n",
       "      <td>2741.00</td>\n",
       "      <td>2304.0</td>\n",
       "      <td>602.00</td>\n",
       "      <td>1676.00</td>\n",
       "      <td>262.00</td>\n",
       "    </tr>\n",
       "    <tr>\n",
       "      <th>score</th>\n",
       "      <td>0.82</td>\n",
       "      <td>0.82</td>\n",
       "      <td>0.83</td>\n",
       "      <td>0.8</td>\n",
       "      <td>0.83</td>\n",
       "      <td>0.82</td>\n",
       "      <td>0.79</td>\n",
       "      <td>0.86</td>\n",
       "      <td>0.83</td>\n",
       "      <td>0.8</td>\n",
       "      <td>0.78</td>\n",
       "      <td>0.79</td>\n",
       "      <td>0.84</td>\n",
       "    </tr>\n",
       "  </tbody>\n",
       "</table>\n",
       "</div>"
      ],
      "text/plain": [
       "                 original  Pearson Correlation  Spearman Correlation  \\\n",
       "                                                                       \n",
       "features amount  10000.00              9122.00               8620.00   \n",
       "score                0.82                 0.82                  0.83   \n",
       "\n",
       "                 Intraclass Distance  Interclass Distance  \\\n",
       "                                                            \n",
       "features amount               6922.0              5382.00   \n",
       "score                            0.8                 0.83   \n",
       "\n",
       "                 Interclass Distance (less f.amount)  Spearman + Intraclass  \\\n",
       "                                                                              \n",
       "features amount                              3438.00                5899.00   \n",
       "score                                           0.82                   0.79   \n",
       "\n",
       "                 Spearman + Interclass  Spearman + Interclass (less f.amount)  \\\n",
       "                                                                                \n",
       "features amount                4397.00                                2741.00   \n",
       "score                             0.86                                   0.83   \n",
       "\n",
       "                 Intraclass + Interclass  \\\n",
       "                                           \n",
       "features amount                   2304.0   \n",
       "score                                0.8   \n",
       "\n",
       "                 Intraclass + Interclass (less f.amount)  \\\n",
       "                                                           \n",
       "features amount                                   602.00   \n",
       "score                                               0.78   \n",
       "\n",
       "                 Spearman + Intraclass + Interclass  \\\n",
       "                                                      \n",
       "features amount                             1676.00   \n",
       "score                                          0.79   \n",
       "\n",
       "                 Spearman + Intraclass + Interclass (less f.amount)  \n",
       "                                                                     \n",
       "features amount                                             262.00   \n",
       "score                                                         0.84   "
      ]
     },
     "metadata": {},
     "output_type": "display_data"
    }
   ],
   "source": [
    "from sklearn.neighbors import KNeighborsClassifier\n",
    "from sklearn.metrics import accuracy_score\n",
    "\n",
    "row_names = pd.Index([\"features amount\", \"score\"], name=\"\")\n",
    "\n",
    "col_names = pd.Index([\n",
    "    \"original\",\n",
    "    \"Pearson Correlation\",\n",
    "    \"Spearman Correlation\",\n",
    "    \"Intraclass Distance\",\n",
    "    \"Interclass Distance\",\n",
    "    \"Interclass Distance (less f.amount)\",\n",
    "    \"Spearman + Intraclass\",\n",
    "    \"Spearman + Interclass\",\n",
    "    \"Spearman + Interclass (less f.amount)\",\n",
    "    \"Intraclass + Interclass\",\n",
    "    \"Intraclass + Interclass (less f.amount)\",\n",
    "    \"Spearman + Intraclass + Interclass\",\n",
    "    \"Spearman + Intraclass + Interclass (less f.amount)\"\n",
    "])\n",
    "filteredFeatureIndices = [\n",
    "    range(X_train.shape[1]), \n",
    "    pearson_indices,\n",
    "    spearman_indices,\n",
    "    intracl_dist_indices,\n",
    "    intercl_dist_indices,\n",
    "    intercl_dist_indices_less_amount,\n",
    "    np.intersect1d(spearman_indices, intracl_dist_indices),\n",
    "    np.intersect1d(spearman_indices, intercl_dist_indices),\n",
    "    np.intersect1d(spearman_indices, intercl_dist_indices_less_amount),\n",
    "    np.intersect1d(intracl_dist_indices, intercl_dist_indices),\n",
    "    np.intersect1d(intracl_dist_indices, intercl_dist_indices_less_amount),\n",
    "    np.intersect1d(spearman_indices, np.intersect1d(intracl_dist_indices, intercl_dist_indices)),\n",
    "    np.intersect1d(spearman_indices, np.intersect1d(intracl_dist_indices, intercl_dist_indices_less_amount))\n",
    "]\n",
    "\n",
    "results = pd.DataFrame(index=row_names, columns=col_names)\n",
    "for i, indices in enumerate(filteredFeatureIndices):\n",
    "    clf = KNeighborsClassifier()\n",
    "    clf.fit(X_train[:, indices], y_train)\n",
    "    y_pred = clf.predict(X_valid[:, indices])\n",
    "    score = accuracy_score(y_valid, y_pred)\n",
    "    results[col_names[i]] = [len(indices),  score]\n",
    "display(results)"
   ]
  },
  {
   "cell_type": "markdown",
   "metadata": {},
   "source": [
    "# Wrappers"
   ]
  },
  {
   "cell_type": "markdown",
   "metadata": {},
   "source": [
    "## Forward wrapper"
   ]
  },
  {
   "cell_type": "code",
   "execution_count": 54,
   "metadata": {},
   "outputs": [],
   "source": [
    "# stop if no improvements in (features_amount * limit) iterations\n",
    "def forward_wrapper(X_train, y_train, X_valid, y_valid, limit=0.1):\n",
    "    features_amount = X_train.shape[1]\n",
    "    remaining_indices = list(range(features_amount))\n",
    "    curr_indices = list()\n",
    "    best_score = 0\n",
    "    steps_without_improvements = 0\n",
    "    steps_limit = features_amount * limit\n",
    "    while steps_without_improvements < steps_limit:\n",
    "        index = remaining_indices[np.random.randint(len(remaining_indices))]\n",
    "        curr_indices.append(index)\n",
    "        remaining_indices.remove(index)\n",
    "        score = predict(X_train[:, curr_indices], y_train, X_valid[:, curr_indices], y_valid)\n",
    "        if score > best_score:\n",
    "            best_score = score\n",
    "            steps_without_improvements = 0\n",
    "        else:\n",
    "            steps_without_improvements += 1\n",
    "            curr_indices.remove(index)\n",
    "    return curr_indices, best_score"
   ]
  },
  {
   "cell_type": "code",
   "execution_count": 100,
   "metadata": {},
   "outputs": [],
   "source": [
    "forward_wrapper_indices, forward_wrapper_score = forward_wrapper(X_train, y_train, X_valid, y_valid)"
   ]
  },
  {
   "cell_type": "code",
   "execution_count": 101,
   "metadata": {},
   "outputs": [
    {
     "data": {
      "text/plain": [
       "0.96"
      ]
     },
     "execution_count": 101,
     "metadata": {},
     "output_type": "execute_result"
    }
   ],
   "source": [
    "forward_wrapper_score"
   ]
  },
  {
   "cell_type": "code",
   "execution_count": 102,
   "metadata": {},
   "outputs": [
    {
     "data": {
      "text/plain": [
       "18"
      ]
     },
     "execution_count": 102,
     "metadata": {},
     "output_type": "execute_result"
    }
   ],
   "source": [
    "len(feed_forward_wrapper_indices)"
   ]
  },
  {
   "cell_type": "code",
   "execution_count": 103,
   "metadata": {},
   "outputs": [
    {
     "data": {
      "text/plain": [
       "[8721,\n",
       " 5792,\n",
       " 7475,\n",
       " 3190,\n",
       " 1020,\n",
       " 4080,\n",
       " 5377,\n",
       " 6189,\n",
       " 2247,\n",
       " 4407,\n",
       " 682,\n",
       " 5907,\n",
       " 4657,\n",
       " 5543,\n",
       " 4016,\n",
       " 615,\n",
       " 1333,\n",
       " 6957,\n",
       " 1644,\n",
       " 1411,\n",
       " 1043]"
      ]
     },
     "execution_count": 103,
     "metadata": {},
     "output_type": "execute_result"
    }
   ],
   "source": [
    "forward_wrapper_indices"
   ]
  },
  {
   "cell_type": "markdown",
   "metadata": {},
   "source": [
    "## Backward wrapper"
   ]
  },
  {
   "cell_type": "code",
   "execution_count": 92,
   "metadata": {},
   "outputs": [],
   "source": [
    "# stop if no improvements in (features_amount * limit) iterations\n",
    "def backward_wrapper(X_train, y_train, X_valid, y_valid, limit=0.05):\n",
    "    features_amount = X_train.shape[1]\n",
    "    indices = list(range(features_amount))\n",
    "    best_score = predict(X_train, y_train, X_valid, y_valid)\n",
    "    steps_without_improvements = 0\n",
    "    steps_limit = features_amount * limit\n",
    "    while steps_without_improvements < steps_limit:\n",
    "        i = np.random.randint(len(indices))\n",
    "        index = indices[i]\n",
    "        indices.remove(index)\n",
    "        score = predict(X_train[:, indices], y_train, X_valid[:, indices], y_valid)\n",
    "        if score >= best_score:\n",
    "            best_score = score    \n",
    "            steps_without_improvements = 0\n",
    "        else:\n",
    "            steps_without_improvements += 1\n",
    "            indices.append(index)\n",
    "    return indices, best_score"
   ]
  },
  {
   "cell_type": "code",
   "execution_count": 93,
   "metadata": {},
   "outputs": [],
   "source": [
    "backward_wrapper_indices, backward_wrapper_score = backward_wrapper(X_train, y_train, X_valid, y_valid)"
   ]
  },
  {
   "cell_type": "code",
   "execution_count": 94,
   "metadata": {},
   "outputs": [
    {
     "data": {
      "text/plain": [
       "0.93"
      ]
     },
     "execution_count": 94,
     "metadata": {},
     "output_type": "execute_result"
    }
   ],
   "source": [
    "backward_wrapper_score"
   ]
  },
  {
   "cell_type": "code",
   "execution_count": 95,
   "metadata": {},
   "outputs": [
    {
     "data": {
      "text/plain": [
       "46"
      ]
     },
     "execution_count": 95,
     "metadata": {},
     "output_type": "execute_result"
    }
   ],
   "source": [
    "len(backward_wrapper_indices)"
   ]
  },
  {
   "cell_type": "code",
   "execution_count": null,
   "metadata": {},
   "outputs": [],
   "source": []
  }
 ],
 "metadata": {
  "kernelspec": {
   "display_name": "Python 3",
   "language": "python",
   "name": "python3"
  },
  "language_info": {
   "codemirror_mode": {
    "name": "ipython",
    "version": 3
   },
   "file_extension": ".py",
   "mimetype": "text/x-python",
   "name": "python",
   "nbconvert_exporter": "python",
   "pygments_lexer": "ipython3",
   "version": "3.7.0"
  }
 },
 "nbformat": 4,
 "nbformat_minor": 2
}
