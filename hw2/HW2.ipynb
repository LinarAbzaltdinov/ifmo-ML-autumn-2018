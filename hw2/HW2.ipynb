{
 "cells": [
  {
   "cell_type": "markdown",
   "metadata": {},
   "source": [
    "# Feature Selection"
   ]
  },
  {
   "cell_type": "markdown",
   "metadata": {},
   "source": [
    "### Load data"
   ]
  },
  {
   "cell_type": "code",
   "execution_count": 1,
   "metadata": {},
   "outputs": [],
   "source": [
    "import numpy as np\n",
    "import pandas as pd"
   ]
  },
  {
   "cell_type": "code",
   "execution_count": 2,
   "metadata": {},
   "outputs": [],
   "source": [
    "import warnings\n",
    "warnings.filterwarnings('ignore')"
   ]
  },
  {
   "cell_type": "code",
   "execution_count": 3,
   "metadata": {},
   "outputs": [],
   "source": [
    "file = open('/Users/linarkou/Documents/ML-course/hw2/data/arcene_train.data')\n",
    "X_train = np.fromfile(file, dtype=np.int32, sep=' ')\n",
    "file.close()\n",
    "\n",
    "file = open('/Users/linarkou/Documents/ML-course/hw2/data/arcene_train.labels')\n",
    "y_train = np.fromfile(file, dtype=np.int32, sep=' ')\n",
    "file.close()\n",
    " \n",
    "file = open('/Users/linarkou/Documents/ML-course/hw2/data/arcene_valid.data')\n",
    "X_valid = np.fromfile(file, dtype=np.int32, sep=' ')\n",
    "file.close()\n",
    "\n",
    "file = open('/Users/linarkou/Documents/ML-course/hw2/data/arcene_valid.labels')\n",
    "y_valid = np.fromfile(file, dtype=np.int32, sep=' ')\n",
    "file.close()"
   ]
  },
  {
   "cell_type": "code",
   "execution_count": 4,
   "metadata": {},
   "outputs": [],
   "source": [
    "y_train = y_train.reshape(-1)\n",
    "X_train = X_train.reshape(y_train.shape[0], -1)\n",
    "y_valid = y_valid.reshape(-1)\n",
    "X_valid = X_valid.reshape(y_valid.shape[0], -1)"
   ]
  },
  {
   "cell_type": "code",
   "execution_count": 5,
   "metadata": {},
   "outputs": [
    {
     "name": "stdout",
     "output_type": "stream",
     "text": [
      "[[  0  71   0 ...   0   0 524]\n",
      " [  0  41  82 ...   0 284 423]\n",
      " [  0   0   1 ...   0  34 508]\n",
      " ...\n",
      " [  2  15  48 ...   0   0 453]\n",
      " [  8   0  38 ...   0 189 403]\n",
      " [  0   0   0 ...   0  10 365]]\n"
     ]
    },
    {
     "data": {
      "text/plain": [
       "(100, 10000)"
      ]
     },
     "execution_count": 5,
     "metadata": {},
     "output_type": "execute_result"
    }
   ],
   "source": [
    "print(X_train)\n",
    "X_train.shape"
   ]
  },
  {
   "cell_type": "code",
   "execution_count": 6,
   "metadata": {},
   "outputs": [
    {
     "data": {
      "text/plain": [
       "(100,)"
      ]
     },
     "execution_count": 6,
     "metadata": {},
     "output_type": "execute_result"
    }
   ],
   "source": [
    "y_train.shape"
   ]
  },
  {
   "cell_type": "code",
   "execution_count": 7,
   "metadata": {},
   "outputs": [],
   "source": [
    "from sklearn.neighbors import KNeighborsClassifier\n",
    "from sklearn.metrics import accuracy_score\n",
    "\n",
    "def predict(X_train, y_train, X_valid, y_valid):\n",
    "    clf = KNeighborsClassifier()\n",
    "    clf.fit(X_train, y_train)\n",
    "    y_pred = clf.predict(X_valid)\n",
    "    score = accuracy_score(y_valid, y_pred)\n",
    "    return score"
   ]
  },
  {
   "cell_type": "markdown",
   "metadata": {},
   "source": [
    "# Filters"
   ]
  },
  {
   "cell_type": "markdown",
   "metadata": {},
   "source": [
    "## 1. Spearman Correlation"
   ]
  },
  {
   "cell_type": "code",
   "execution_count": 8,
   "metadata": {},
   "outputs": [],
   "source": [
    "from scipy.stats import spearmanr\n",
    "\n",
    "def spearmanCorrelationFilter(X, y, amount):\n",
    "    indices = []\n",
    "    featuresAmount = X.shape[1]\n",
    "    correlations = []\n",
    "    for i in range(featuresAmount):\n",
    "        correlations.append(abs(spearmanr(X[:, i], y)[0]))\n",
    "    return (np.argsort(correlations))[:amount]"
   ]
  },
  {
   "cell_type": "markdown",
   "metadata": {},
   "source": [
    "## 2. Pearson Correlation"
   ]
  },
  {
   "cell_type": "code",
   "execution_count": 9,
   "metadata": {},
   "outputs": [],
   "source": [
    "from scipy.stats import pearsonr\n",
    "\n",
    "def pearsonCorrelationFilter(X, y, amount):\n",
    "    indices = []\n",
    "    featuresAmount = X.shape[1]\n",
    "    correlations = []\n",
    "    for i in range(featuresAmount):\n",
    "        correlations.append(abs(pearsonr(X[:, i], y)[0]))\n",
    "    return (np.argsort(correlations))[:amount]"
   ]
  },
  {
   "cell_type": "markdown",
   "metadata": {},
   "source": [
    "## 3. Intraclass Distance Filter"
   ]
  },
  {
   "cell_type": "markdown",
   "metadata": {},
   "source": [
    "#### Group by classes"
   ]
  },
  {
   "cell_type": "code",
   "execution_count": 10,
   "metadata": {},
   "outputs": [],
   "source": [
    "classes = {}\n",
    "for i, class_value in enumerate(y_train):\n",
    "    if class_value in classes:\n",
    "        classes[class_value].append(i)\n",
    "    else:\n",
    "        classes[class_value] = [i]"
   ]
  },
  {
   "cell_type": "code",
   "execution_count": 11,
   "metadata": {},
   "outputs": [],
   "source": [
    "from sklearn import preprocessing\n",
    "\n",
    "def intraclassDistanceFilter(X, y, amount):\n",
    "    scaler = preprocessing.StandardScaler().fit(X)\n",
    "    X = scaler.transform(X)\n",
    "    distances = []\n",
    "    features_amount = X.shape[1]\n",
    "    for f_i in range(features_amount):\n",
    "        observations = X[:, f_i]\n",
    "        dist = 0\n",
    "        for cl in classes:\n",
    "            dist_cl = 0\n",
    "            for i in classes[cl]:\n",
    "                for j in classes[cl]:\n",
    "                    dist_cl += abs(observations[i] - observations[j])\n",
    "            dist += dist_cl / (len(classes[cl])**2 - len(classes[cl]))\n",
    "        distances.append(dist / len(classes))\n",
    "    return (np.argsort(distances))[:amount]"
   ]
  },
  {
   "cell_type": "markdown",
   "metadata": {},
   "source": [
    "## 4. Interclass Distance Filter"
   ]
  },
  {
   "cell_type": "code",
   "execution_count": 12,
   "metadata": {},
   "outputs": [],
   "source": [
    "from sklearn import preprocessing\n",
    "\n",
    "def interclassDistanceFilter(X, y, amount):\n",
    "    scaler = preprocessing.StandardScaler().fit(X)\n",
    "    X = scaler.transform(X)\n",
    "    distances = []\n",
    "    features_amount = X.shape[1]\n",
    "    for f_i in range(features_amount):\n",
    "        observations = X[:, f_i]\n",
    "        dist = 0\n",
    "        for i in classes[-1]:\n",
    "            for j in classes[1]:\n",
    "                dist += abs(observations[i] - observations[j])\n",
    "        distances.append(dist / (len(classes[1]) * len (classes[-1])))\n",
    "    return (np.argsort(distances))[-amount:]"
   ]
  },
  {
   "cell_type": "markdown",
   "metadata": {},
   "source": [
    "# Wrappers"
   ]
  },
  {
   "cell_type": "markdown",
   "metadata": {},
   "source": [
    "## 1. Forward wrapper"
   ]
  },
  {
   "cell_type": "code",
   "execution_count": 13,
   "metadata": {},
   "outputs": [],
   "source": [
    "# stop if no improvements in (features_amount * limit) iterations\n",
    "def forward_wrapper(X_train, y_train, X_valid, y_valid, amount):\n",
    "    features_amount = X_train.shape[1]\n",
    "    remaining_indices = list(range(features_amount))\n",
    "    curr_indices = list()\n",
    "    best_score = 0\n",
    "    while len(curr_indices) != amount and len(remaining_indices) > 0:\n",
    "        index = remaining_indices[np.random.randint(len(remaining_indices))]\n",
    "        curr_indices.append(index)\n",
    "        remaining_indices.remove(index)\n",
    "        score = predict(X_train[:, curr_indices], y_train, X_valid[:, curr_indices], y_valid)\n",
    "        if score > best_score:\n",
    "            best_score = score\n",
    "        else:\n",
    "            curr_indices.remove(index)\n",
    "    return curr_indices, best_score"
   ]
  },
  {
   "cell_type": "markdown",
   "metadata": {},
   "source": [
    "## 2. Backward wrapper"
   ]
  },
  {
   "cell_type": "code",
   "execution_count": 28,
   "metadata": {},
   "outputs": [],
   "source": [
    "from random import shuffle\n",
    "# stop if no improvements in (features_amount * limit) iterations\n",
    "def backward_wrapper(X_train, y_train, X_valid, y_valid, amount):\n",
    "    features_amount = X_train.shape[1]\n",
    "    indices = list(range(features_amount))\n",
    "    shuffle(indices)\n",
    "    best_score = predict(X_train, y_train, X_valid, y_valid)\n",
    "    while len(indices) != amount:\n",
    "        index = indices[0]\n",
    "        indices.remove(index)\n",
    "        score = predict(X_train[:, indices], y_train, X_valid[:, indices], y_valid)\n",
    "        if score >= best_score:\n",
    "            best_score = score    \n",
    "        else:\n",
    "            indices.append(index)\n",
    "    return indices, best_score"
   ]
  },
  {
   "cell_type": "markdown",
   "metadata": {},
   "source": [
    "# Calculation"
   ]
  },
  {
   "cell_type": "code",
   "execution_count": 15,
   "metadata": {},
   "outputs": [],
   "source": [
    "row_names = pd.Index([\"features amount\", \"score\"], name=\"\")"
   ]
  },
  {
   "cell_type": "code",
   "execution_count": 16,
   "metadata": {},
   "outputs": [],
   "source": [
    "max_amount = 50"
   ]
  },
  {
   "cell_type": "code",
   "execution_count": 17,
   "metadata": {},
   "outputs": [],
   "source": [
    "spearman_indices = spearmanCorrelationFilter(X_train, y_train, max_amount)"
   ]
  },
  {
   "cell_type": "code",
   "execution_count": 18,
   "metadata": {},
   "outputs": [],
   "source": [
    "pearson_indices = pearsonCorrelationFilter(X_train, y_train, max_amount)"
   ]
  },
  {
   "cell_type": "code",
   "execution_count": 23,
   "metadata": {},
   "outputs": [],
   "source": [
    "intracl_dist_indices = intraclassDistanceFilter(X_train, y_train, max_amount)"
   ]
  },
  {
   "cell_type": "code",
   "execution_count": 24,
   "metadata": {},
   "outputs": [],
   "source": [
    "intercl_dist_indices = interclassDistanceFilter(X_train, y_train, max_amount)"
   ]
  },
  {
   "cell_type": "code",
   "execution_count": 25,
   "metadata": {},
   "outputs": [],
   "source": [
    "forward_wrapper_indices, _ = forward_wrapper(X_train, y_train, X_valid, y_valid, max_amount)"
   ]
  },
  {
   "cell_type": "code",
   "execution_count": 29,
   "metadata": {},
   "outputs": [],
   "source": [
    "backward_wrapper_indices, _ = backward_wrapper(X_train, y_train, X_valid, y_valid, max_amount)"
   ]
  },
  {
   "cell_type": "markdown",
   "metadata": {},
   "source": [
    "# Comparison"
   ]
  },
  {
   "cell_type": "code",
   "execution_count": 30,
   "metadata": {},
   "outputs": [
    {
     "data": {
      "text/html": [
       "<div>\n",
       "<style scoped>\n",
       "    .dataframe tbody tr th:only-of-type {\n",
       "        vertical-align: middle;\n",
       "    }\n",
       "\n",
       "    .dataframe tbody tr th {\n",
       "        vertical-align: top;\n",
       "    }\n",
       "\n",
       "    .dataframe thead th {\n",
       "        text-align: right;\n",
       "    }\n",
       "</style>\n",
       "<table border=\"1\" class=\"dataframe\">\n",
       "  <thead>\n",
       "    <tr style=\"text-align: right;\">\n",
       "      <th></th>\n",
       "      <th>original</th>\n",
       "      <th>Pearson Correlation</th>\n",
       "      <th>Spearman Correlation</th>\n",
       "      <th>Intraclass Distance</th>\n",
       "      <th>Interclass Distance</th>\n",
       "      <th>Forward Wrapper</th>\n",
       "      <th>Backward Wrapper</th>\n",
       "    </tr>\n",
       "    <tr>\n",
       "      <th></th>\n",
       "      <th></th>\n",
       "      <th></th>\n",
       "      <th></th>\n",
       "      <th></th>\n",
       "      <th></th>\n",
       "      <th></th>\n",
       "      <th></th>\n",
       "    </tr>\n",
       "  </thead>\n",
       "  <tbody>\n",
       "    <tr>\n",
       "      <th>features amount</th>\n",
       "      <td>10000.00</td>\n",
       "      <td>50.00</td>\n",
       "      <td>50.00</td>\n",
       "      <td>50.00</td>\n",
       "      <td>50.00</td>\n",
       "      <td>27.00</td>\n",
       "      <td>50.00</td>\n",
       "    </tr>\n",
       "    <tr>\n",
       "      <th>score</th>\n",
       "      <td>0.82</td>\n",
       "      <td>0.67</td>\n",
       "      <td>0.57</td>\n",
       "      <td>0.44</td>\n",
       "      <td>0.74</td>\n",
       "      <td>0.94</td>\n",
       "      <td>0.91</td>\n",
       "    </tr>\n",
       "  </tbody>\n",
       "</table>\n",
       "</div>"
      ],
      "text/plain": [
       "                 original  Pearson Correlation  Spearman Correlation  \\\n",
       "                                                                       \n",
       "features amount  10000.00                50.00                 50.00   \n",
       "score                0.82                 0.67                  0.57   \n",
       "\n",
       "                 Intraclass Distance  Interclass Distance  Forward Wrapper  \\\n",
       "                                                                             \n",
       "features amount                50.00                50.00            27.00   \n",
       "score                           0.44                 0.74             0.94   \n",
       "\n",
       "                 Backward Wrapper  \n",
       "                                   \n",
       "features amount             50.00  \n",
       "score                        0.91  "
      ]
     },
     "metadata": {},
     "output_type": "display_data"
    }
   ],
   "source": [
    "from sklearn.neighbors import KNeighborsClassifier\n",
    "from sklearn.metrics import accuracy_score\n",
    "\n",
    "row_names = pd.Index([\"features amount\", \"score\"], name=\"\")\n",
    "\n",
    "col_names = pd.Index([\n",
    "    \"original\",\n",
    "    \"Pearson Correlation\",\n",
    "    \"Spearman Correlation\",\n",
    "    \"Intraclass Distance\",\n",
    "    \"Interclass Distance\",\n",
    "    \"Forward Wrapper\",\n",
    "    \"Backward Wrapper\"\n",
    "])\n",
    "filteredFeatureIndices = [\n",
    "    range(X_train.shape[1]), \n",
    "    pearson_indices,\n",
    "    spearman_indices,\n",
    "    intracl_dist_indices,\n",
    "    intercl_dist_indices,\n",
    "    forward_wrapper_indices,\n",
    "    backward_wrapper_indices\n",
    "]\n",
    "\n",
    "results = pd.DataFrame(index=row_names, columns=col_names)\n",
    "for i, indices in enumerate(filteredFeatureIndices):\n",
    "    clf = KNeighborsClassifier()\n",
    "    clf.fit(X_train[:, indices], y_train)\n",
    "    y_pred = clf.predict(X_valid[:, indices])\n",
    "    score = accuracy_score(y_valid, y_pred)\n",
    "    results[col_names[i]] = [len(indices),  score]\n",
    "display(results)"
   ]
  }
 ],
 "metadata": {
  "kernelspec": {
   "display_name": "Python 3",
   "language": "python",
   "name": "python3"
  },
  "language_info": {
   "codemirror_mode": {
    "name": "ipython",
    "version": 3
   },
   "file_extension": ".py",
   "mimetype": "text/x-python",
   "name": "python",
   "nbconvert_exporter": "python",
   "pygments_lexer": "ipython3",
   "version": "3.7.0"
  }
 },
 "nbformat": 4,
 "nbformat_minor": 2
}
